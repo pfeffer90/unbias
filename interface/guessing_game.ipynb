{
 "cells": [
  {
   "cell_type": "code",
   "execution_count": 1,
   "metadata": {},
   "outputs": [],
   "source": [
    "import ipywidgets as widgets"
   ]
  },
  {
   "cell_type": "code",
   "execution_count": 2,
   "metadata": {},
   "outputs": [],
   "source": [
    "def update_trial_idx(trial_idx):\n",
    "    out.clear_output()\n",
    "    out.append_stdout(\"{:d}\".format(trial_idx))\n",
    "    \n",
    "out = widgets.Output(layout={'border': '1px solid black'})"
   ]
  },
  {
   "cell_type": "code",
   "execution_count": 3,
   "metadata": {},
   "outputs": [],
   "source": [
    "def collect_choice(x):    \n",
    "    return x"
   ]
  },
  {
   "cell_type": "code",
   "execution_count": 4,
   "metadata": {},
   "outputs": [
    {
     "data": {
      "application/vnd.jupyter.widget-view+json": {
       "model_id": "99650c3cb6d24b4e9dbdb98f4a5386c0",
       "version_major": 2,
       "version_minor": 0
      },
      "text/plain": [
       "aW50ZXJhY3RpdmUoY2hpbGRyZW49KFRvZ2dsZUJ1dHRvbnMoZGVzY3JpcHRpb249dSdVc2VyIGNob2ljZTonLCBvcHRpb25zPSgwLCAxKSwgdG9vbHRpcHM9KHUnRGVzY3JpcHRpb24gb2YgMCfigKY=\n"
      ]
     },
     "metadata": {},
     "output_type": "display_data"
    }
   ],
   "source": [
    "buttons = widgets.interact(collect_choice, x=widgets.ToggleButtons(\n",
    "        options=[0, 1],\n",
    "        description='User choice:',\n",
    "        disabled=False,\n",
    "        button_style='', # 'success', 'info', 'warning', 'danger' or ''\n",
    "        tooltips=['Description of 0', 'Description of 1'],\n",
    "    #     icons=['check'] * 3\n",
    "));"
   ]
  },
  {
   "cell_type": "code",
   "execution_count": 5,
   "metadata": {},
   "outputs": [],
   "source": [
    "buttons = widgets.ToggleButtons(\n",
    "        options=[0, 1],\n",
    "        description='User choice:',\n",
    "        disabled=False,\n",
    "        button_style='', # 'success', 'info', 'warning', 'danger' or ''\n",
    "        tooltips=['Description of 0', 'Description of 1'],\n",
    "    #     icons=['check'] * 3\n",
    ")"
   ]
  },
  {
   "cell_type": "code",
   "execution_count": 6,
   "metadata": {},
   "outputs": [
    {
     "data": {
      "text/plain": [
       "ipywidgets.widgets.widget_selection.ToggleButtons"
      ]
     },
     "execution_count": 6,
     "metadata": {},
     "output_type": "execute_result"
    }
   ],
   "source": [
    "type(buttons)"
   ]
  },
  {
   "cell_type": "code",
   "execution_count": 7,
   "metadata": {},
   "outputs": [
    {
     "data": {
      "application/vnd.jupyter.widget-view+json": {
       "model_id": "b51aa72c938d4dd8902c23a1e89fc6e7",
       "version_major": 2,
       "version_minor": 0
      },
      "text/plain": [
       "Output(layout=Layout(border=u'1px solid black'))"
      ]
     },
     "metadata": {},
     "output_type": "display_data"
    }
   ],
   "source": [
    "out"
   ]
  },
  {
   "cell_type": "code",
   "execution_count": 8,
   "metadata": {},
   "outputs": [],
   "source": [
    "game = widgets.VBox([out, buttons])"
   ]
  },
  {
   "cell_type": "code",
   "execution_count": 9,
   "metadata": {},
   "outputs": [
    {
     "data": {
      "application/vnd.jupyter.widget-view+json": {
       "model_id": "dccae486b6484acb8490720b9cec0534",
       "version_major": 2,
       "version_minor": 0
      },
      "text/plain": [
       "VkJveChjaGlsZHJlbj0oT3V0cHV0KGxheW91dD1MYXlvdXQoYm9yZGVyPXUnMXB4IHNvbGlkIGJsYWNrJykpLCBUb2dnbGVCdXR0b25zKGRlc2NyaXB0aW9uPXUnVXNlciBjaG9pY2U6Jywgb3DigKY=\n"
      ]
     },
     "metadata": {},
     "output_type": "display_data"
    }
   ],
   "source": [
    "game"
   ]
  },
  {
   "cell_type": "code",
   "execution_count": 10,
   "metadata": {},
   "outputs": [
    {
     "name": "stdout",
     "output_type": "stream",
     "text": [
      "0\n"
     ]
    }
   ],
   "source": [
    "print(buttons.value)"
   ]
  },
  {
   "cell_type": "code",
   "execution_count": 11,
   "metadata": {},
   "outputs": [
    {
     "data": {
      "text/plain": [
       "<ipywidgets.widgets.widget.WidgetRegistry at 0x7fd2e6ab00d0>"
      ]
     },
     "execution_count": 11,
     "metadata": {},
     "output_type": "execute_result"
    }
   ],
   "source": [
    "widgets.Widget.widget_types"
   ]
  },
  {
   "cell_type": "code",
   "execution_count": 12,
   "metadata": {},
   "outputs": [
    {
     "ename": "SyntaxError",
     "evalue": "invalid syntax (<ipython-input-12-5c619d4455b2>, line 1)",
     "output_type": "error",
     "traceback": [
      "\u001b[0;36m  File \u001b[0;32m\"<ipython-input-12-5c619d4455b2>\"\u001b[0;36m, line \u001b[0;32m1\u001b[0m\n\u001b[0;31m    buttons.log.\u001b[0m\n\u001b[0m                ^\u001b[0m\n\u001b[0;31mSyntaxError\u001b[0m\u001b[0;31m:\u001b[0m invalid syntax\n"
     ]
    }
   ],
   "source": [
    "buttons.log."
   ]
  },
  {
   "cell_type": "code",
   "execution_count": 13,
   "metadata": {},
   "outputs": [
    {
     "data": {
      "application/vnd.jupyter.widget-view+json": {
       "model_id": "4ff1c35293514c3bb1f1e5b6af14a1a2",
       "version_major": 2,
       "version_minor": 0
      },
      "text/plain": [
       "VG9nZ2xlQnV0dG9ucyhkZXNjcmlwdGlvbj11J1VzZXIgY2hvaWNlOicsIG9wdGlvbnM9KDAsIDEpLCB0b29sdGlwcz0odSdEZXNjcmlwdGlvbiBvZiAwJywgdSdEZXNjcmlwdGlvbiBvZiAxJynigKY=\n"
      ]
     },
     "metadata": {},
     "output_type": "display_data"
    },
    {
     "ename": "AttributeError",
     "evalue": "'ToggleButtons' object has no attribute 'on_click'",
     "output_type": "error",
     "traceback": [
      "\u001b[0;31m---------------------------------------------------------------------------\u001b[0m",
      "\u001b[0;31mAttributeError\u001b[0m                            Traceback (most recent call last)",
      "\u001b[0;32m<ipython-input-13-1f69df41ad01>\u001b[0m in \u001b[0;36m<module>\u001b[0;34m()\u001b[0m\n\u001b[1;32m     26\u001b[0m     \u001b[0;31m#display(\"Button clicked.\")\u001b[0m\u001b[0;34m\u001b[0m\u001b[0;34m\u001b[0m\u001b[0m\n\u001b[1;32m     27\u001b[0m \u001b[0;34m\u001b[0m\u001b[0m\n\u001b[0;32m---> 28\u001b[0;31m \u001b[0mbutton\u001b[0m\u001b[0;34m.\u001b[0m\u001b[0mon_click\u001b[0m\u001b[0;34m(\u001b[0m\u001b[0mon_button_clicked\u001b[0m\u001b[0;34m)\u001b[0m\u001b[0;34m\u001b[0m\u001b[0m\n\u001b[0m",
      "\u001b[0;31mAttributeError\u001b[0m: 'ToggleButtons' object has no attribute 'on_click'"
     ]
    }
   ],
   "source": [
    "from IPython.display import display\n",
    "#button = widgets.Button(description=\"Click Me!\")\n",
    "button = widgets.ToggleButtons(\n",
    "        options=[0, 1],\n",
    "        description='User choice:',\n",
    "        disabled=False,\n",
    "        button_style='', # 'success', 'info', 'warning', 'danger' or ''\n",
    "        tooltips=['Description of 0', 'Description of 1'],\n",
    "    #     icons=['check'] * 3\n",
    ")\n",
    "display(button)\n",
    "\n",
    "global n\n",
    "n=0\n",
    "\n",
    "def on_button_clicked(b):\n",
    "    out = widgets.Output()\n",
    "    #with out:\n",
    "    #    clear_output() \n",
    "    #with out:\n",
    "    global n\n",
    "    n+=1\n",
    "    out.clear_output()\n",
    "    display(n)\n",
    "    out.clear_output()\n",
    "    #display(\"Button clicked.\")\n",
    "\n",
    "button.on_click(on_button_clicked)"
   ]
  },
  {
   "cell_type": "code",
   "execution_count": null,
   "metadata": {},
   "outputs": [],
   "source": []
  },
  {
   "cell_type": "code",
   "execution_count": 38,
   "metadata": {},
   "outputs": [],
   "source": [
    "from IPython.display import display\n",
    "import ipywidgets as widgets\n",
    "#from game import Game, GameConstants\n",
    "\n",
    "game = Game(None)\n",
    "#button = widgets.Button(description=\"Click Me!\")\n",
    "def setup_game(g, max_trials):\n",
    "    \n",
    "    def on_button_clicked(b):\n",
    "        choice = int(b.description)\n",
    "        reward = 1\n",
    "        g.provide_reward(choice)\n",
    "        g.add_trial(choice,reward)\n",
    "        if g.number_of_trials == max_trials:\n",
    "            print(\"You did it :)\")\n",
    "            button0.close()\n",
    "            button1.close()\n",
    "        \n",
    "            \n",
    "    button0 = widgets.Button(\n",
    "        description='0')\n",
    "\n",
    "    button1 = widgets.Button(\n",
    "            description='1')\n",
    "\n",
    "    widget_container = widgets.Box([button0,button1])\n",
    "    display(widget_container)\n",
    "\n",
    "    button0.on_click(on_button_clicked)\n",
    "    button1.on_click(on_button_clicked)\n",
    "\n",
    "   \n",
    "\n",
    "\n"
   ]
  },
  {
   "cell_type": "code",
   "execution_count": 39,
   "metadata": {},
   "outputs": [
    {
     "data": {
      "application/vnd.jupyter.widget-view+json": {
       "model_id": "167231cb62af44a593509ea1bbde0c3c",
       "version_major": 2,
       "version_minor": 0
      },
      "text/plain": [
       "Box(children=(Button(description=u'0', style=ButtonStyle()), Button(description=u'1', style=ButtonStyle())))"
      ]
     },
     "metadata": {},
     "output_type": "display_data"
    },
    {
     "name": "stdout",
     "output_type": "stream",
     "text": [
      "You did it :)\n"
     ]
    }
   ],
   "source": [
    "setup_game(game,2)"
   ]
  },
  {
   "cell_type": "code",
   "execution_count": null,
   "metadata": {},
   "outputs": [],
   "source": []
  }
 ],
 "metadata": {
  "kernelspec": {
   "display_name": "Python 2",
   "language": "python",
   "name": "python2"
  },
  "language_info": {
   "codemirror_mode": {
    "name": "ipython",
    "version": 2
   },
   "file_extension": ".py",
   "mimetype": "text/x-python",
   "name": "python",
   "nbconvert_exporter": "python",
   "pygments_lexer": "ipython2",
   "version": "2.7.15rc1"
  }
 },
 "nbformat": 4,
 "nbformat_minor": 2
}
