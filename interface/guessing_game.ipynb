{
 "cells": [
  {
   "cell_type": "code",
   "execution_count": 1,
   "metadata": {},
   "outputs": [],
   "source": [
    "import ipywidgets as widgets"
   ]
  },
  {
   "cell_type": "code",
   "execution_count": 2,
   "metadata": {},
   "outputs": [],
   "source": [
    "def update_trial_idx(trial_idx):\n",
    "    out.clear_output()\n",
    "    out.append_stdout(\"{:d}\".format(trial_idx))\n",
    "    \n",
    "out = widgets.Output(layout={'border': '1px solid black'})"
   ]
  },
  {
   "cell_type": "code",
   "execution_count": 3,
   "metadata": {},
   "outputs": [],
   "source": [
    "def collect_choice(x):    \n",
    "    return x"
   ]
  },
  {
   "cell_type": "code",
   "execution_count": 4,
   "metadata": {},
   "outputs": [
    {
     "data": {
      "application/vnd.jupyter.widget-view+json": {
       "model_id": "81289d25b1624250b0afac832e5f78c3",
       "version_major": 2,
       "version_minor": 0
      },
      "text/plain": [
       "aW50ZXJhY3RpdmUoY2hpbGRyZW49KFRvZ2dsZUJ1dHRvbnMoZGVzY3JpcHRpb249dSdVc2VyIGNob2ljZTonLCBvcHRpb25zPSgwLCAxKSwgdG9vbHRpcHM9KHUnRGVzY3JpcHRpb24gb2YgMCfigKY=\n"
      ]
     },
     "metadata": {},
     "output_type": "display_data"
    }
   ],
   "source": [
    "widgets.interact(collect_choice, x=widgets.ToggleButtons(\n",
    "        options=[0, 1],\n",
    "        description='User choice:',\n",
    "        disabled=False,\n",
    "        button_style='', # 'success', 'info', 'warning', 'danger' or ''\n",
    "        tooltips=['Description of 0', 'Description of 1'],\n",
    "    #     icons=['check'] * 3\n",
    "));\n",
    "update_trial_idx(3)"
   ]
  },
  {
   "cell_type": "code",
   "execution_count": 5,
   "metadata": {},
   "outputs": [
    {
     "data": {
      "application/vnd.jupyter.widget-view+json": {
       "model_id": "7f144d705adf4b75a269f028356c9485",
       "version_major": 2,
       "version_minor": 0
      },
      "text/plain": [
       "T3V0cHV0KGxheW91dD1MYXlvdXQoYm9yZGVyPXUnMXB4IHNvbGlkIGJsYWNrJyksIG91dHB1dHM9KHsnb3V0cHV0X3R5cGUnOiAnc3RyZWFtJywgJ25hbWUnOiAnc3Rkb3V0JywgJ3RleHQnOiDigKY=\n"
      ]
     },
     "metadata": {},
     "output_type": "display_data"
    }
   ],
   "source": [
    "out"
   ]
  },
  {
   "cell_type": "code",
   "execution_count": null,
   "metadata": {},
   "outputs": [],
   "source": []
  },
  {
   "cell_type": "code",
   "execution_count": null,
   "metadata": {},
   "outputs": [],
   "source": []
  }
 ],
 "metadata": {
  "kernelspec": {
   "display_name": "Python 2",
   "language": "python",
   "name": "python2"
  },
  "language_info": {
   "codemirror_mode": {
    "name": "ipython",
    "version": 2
   },
   "file_extension": ".py",
   "mimetype": "text/x-python",
   "name": "python",
   "nbconvert_exporter": "python",
   "pygments_lexer": "ipython2",
   "version": "2.7.15rc1"
  }
 },
 "nbformat": 4,
 "nbformat_minor": 2
}
