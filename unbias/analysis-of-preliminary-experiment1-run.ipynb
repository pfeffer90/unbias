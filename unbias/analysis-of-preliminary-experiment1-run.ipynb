{
 "cells": [
  {
   "cell_type": "code",
   "execution_count": 1,
   "metadata": {
    "collapsed": true
   },
   "outputs": [],
   "source": [
    "from load_data import load_common_metadata"
   ]
  },
  {
   "cell_type": "code",
   "execution_count": 7,
   "metadata": {
    "collapsed": true
   },
   "outputs": [],
   "source": [
    "data_dir = '../experiments'"
   ]
  },
  {
   "cell_type": "code",
   "execution_count": 8,
   "metadata": {},
   "outputs": [],
   "source": [
    "meta_data = load_common_metadata(data_dir)"
   ]
  },
  {
   "cell_type": "code",
   "execution_count": 13,
   "metadata": {},
   "outputs": [
    {
     "data": {
      "text/html": [
       "<div>\n",
       "<style>\n",
       "    .dataframe thead tr:only-child th {\n",
       "        text-align: right;\n",
       "    }\n",
       "\n",
       "    .dataframe thead th {\n",
       "        text-align: left;\n",
       "    }\n",
       "\n",
       "    .dataframe tbody tr th {\n",
       "        vertical-align: top;\n",
       "    }\n",
       "</style>\n",
       "<table border=\"1\" class=\"dataframe\">\n",
       "  <thead>\n",
       "    <tr style=\"text-align: right;\">\n",
       "      <th></th>\n",
       "      <th>AgentName</th>\n",
       "      <th>ChoicesFile</th>\n",
       "      <th>ConfigFile</th>\n",
       "      <th>Date</th>\n",
       "      <th>GameIdx</th>\n",
       "      <th>GameVariant</th>\n",
       "      <th>ModelFile</th>\n",
       "    </tr>\n",
       "  </thead>\n",
       "  <tbody>\n",
       "    <tr>\n",
       "      <th>0</th>\n",
       "      <td>paulpfeiffer</td>\n",
       "      <td>agent_choices_paulpfeiffer_0001.csv</td>\n",
       "      <td>config/experiment1.json</td>\n",
       "      <td>20180827_23:12:38</td>\n",
       "      <td>1</td>\n",
       "      <td>no_feedback_v1</td>\n",
       "      <td>model_params_paulpfeiffer_0001.csv</td>\n",
       "    </tr>\n",
       "    <tr>\n",
       "      <th>1</th>\n",
       "      <td>amadeus</td>\n",
       "      <td>agent_choices_amadeus_0001.csv</td>\n",
       "      <td>config/experiment1.json</td>\n",
       "      <td>20180827_23:11:00</td>\n",
       "      <td>1</td>\n",
       "      <td>no_feedback_v1</td>\n",
       "      <td>model_params_amadeus_0001.csv</td>\n",
       "    </tr>\n",
       "    <tr>\n",
       "      <th>2</th>\n",
       "      <td>bhanu</td>\n",
       "      <td>agent_choices_bhanu_0001.csv</td>\n",
       "      <td>config/experiment1.json</td>\n",
       "      <td>20180827_23:17:35</td>\n",
       "      <td>1</td>\n",
       "      <td>no_feedback_v1</td>\n",
       "      <td>model_params_bhanu_0001.csv</td>\n",
       "    </tr>\n",
       "  </tbody>\n",
       "</table>\n",
       "</div>"
      ],
      "text/plain": [
       "      AgentName                          ChoicesFile               ConfigFile  \\\n",
       "0  paulpfeiffer  agent_choices_paulpfeiffer_0001.csv  config/experiment1.json   \n",
       "1       amadeus       agent_choices_amadeus_0001.csv  config/experiment1.json   \n",
       "2         bhanu         agent_choices_bhanu_0001.csv  config/experiment1.json   \n",
       "\n",
       "                Date GameIdx     GameVariant  \\\n",
       "0  20180827_23:12:38       1  no_feedback_v1   \n",
       "1  20180827_23:11:00       1  no_feedback_v1   \n",
       "2  20180827_23:17:35       1  no_feedback_v1   \n",
       "\n",
       "                            ModelFile  \n",
       "0  model_params_paulpfeiffer_0001.csv  \n",
       "1       model_params_amadeus_0001.csv  \n",
       "2         model_params_bhanu_0001.csv  "
      ]
     },
     "execution_count": 13,
     "metadata": {},
     "output_type": "execute_result"
    }
   ],
   "source": [
    "meta_data"
   ]
  },
  {
   "cell_type": "markdown",
   "metadata": {},
   "source": [
    "## Plot hists"
   ]
  },
  {
   "cell_type": "code",
   "execution_count": 9,
   "metadata": {
    "collapsed": true
   },
   "outputs": [],
   "source": [
    "import pandas as pd"
   ]
  },
  {
   "cell_type": "code",
   "execution_count": 30,
   "metadata": {},
   "outputs": [],
   "source": [
    "choicess = [(agent_name, pd.DataFrame.from_csv(data_dir+'/'+choices_file)) for agent_name, choices_file in zip(meta_data['AgentName'].values,meta_data['ChoicesFile'].values)]\n",
    "    "
   ]
  },
  {
   "cell_type": "code",
   "execution_count": 27,
   "metadata": {},
   "outputs": [],
   "source": [
    "import matplotlib.pyplot as plt"
   ]
  },
  {
   "cell_type": "code",
   "execution_count": 31,
   "metadata": {},
   "outputs": [
    {
     "data": {
      "image/png": "[encoded data removed]",
      "text/plain": [
       "<matplotlib.figure.Figure at 0x7fbd7125fc50>"
      ]
     },
     "metadata": {},
     "output_type": "display_data"
    },
    {
     "data": {
      "image/png": "[encoded data removed]",
      "text/plain": [
       "<matplotlib.figure.Figure at 0x7fbd746e4828>"
      ]
     },
     "metadata": {},
     "output_type": "display_data"
    },
    {
     "data": {
      "image/png": "[encoded data removed]",
      "text/plain": [
       "<matplotlib.figure.Figure at 0x7fbd75566ac8>"
      ]
     },
     "metadata": {},
     "output_type": "display_data"
    }
   ],
   "source": [
    "\n",
    "for name, choices in choicess:\n",
    "    plt.figure()\n",
    "    plt.title(name)\n",
    "    choices['AgentChoice'].hist()\n",
    "    "
   ]
  }
 ],
 "metadata": {
  "kernelspec": {
   "display_name": "Python 3",
   "language": "python",
   "name": "python3"
  },
  "language_info": {
   "codemirror_mode": {
    "name": "ipython",
    "version": 3
   },
   "file_extension": ".py",
   "mimetype": "text/x-python",
   "name": "python",
   "nbconvert_exporter": "python",
   "pygments_lexer": "ipython3",
   "version": "3.6.2"
  }
 },
 "nbformat": 4,
 "nbformat_minor": 2
}
