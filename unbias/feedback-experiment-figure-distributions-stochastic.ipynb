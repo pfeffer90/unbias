{
 "cells": [
  {
   "cell_type": "code",
   "execution_count": 1,
   "metadata": {
    "collapsed": true
   },
   "outputs": [],
   "source": [
    "import numpy as np\n",
    "from training_data import generate_stationary_agent_choices\n",
    "from collections import Counter\n",
    "import pandas as pd\n",
    "import matplotlib.pyplot as plt\n",
    "%matplotlib inline\n",
    "from training_data import sigmoid"
   ]
  },
  {
   "cell_type": "code",
   "execution_count": 2,
   "metadata": {
    "collapsed": true
   },
   "outputs": [],
   "source": [
    "from load_data import load_common_metadata\n",
    "from outguesser import linear_choice_history_dependent_model"
   ]
  },
  {
   "cell_type": "code",
   "execution_count": 3,
   "metadata": {
    "collapsed": true
   },
   "outputs": [],
   "source": [
    "from outguesser import separate_choices_sequences_into_history_and_choice\n",
    "from outguesser import momentum_gradient_descent, maximum_a_posteriori"
   ]
  },
  {
   "cell_type": "code",
   "execution_count": 4,
   "metadata": {
    "collapsed": true
   },
   "outputs": [],
   "source": [
    "data_dir = '../experiments/'\n",
    "metadata = load_common_metadata(data_dir)"
   ]
  },
  {
   "cell_type": "code",
   "execution_count": 5,
   "metadata": {
    "collapsed": true
   },
   "outputs": [],
   "source": [
    "metadata;"
   ]
  },
  {
   "cell_type": "code",
   "execution_count": 6,
   "metadata": {
    "collapsed": true
   },
   "outputs": [],
   "source": [
    "def get_model_params(expdataframe, weight_prior, optimizer):\n",
    "    choices = pd.DataFrame.from_csv(data_dir + expdataframe['ChoicesFile']).values\n",
    "    weights = optimizer(weight_prior, choices)\n",
    "    return weights"
   ]
  },
  {
   "cell_type": "code",
   "execution_count": 7,
   "metadata": {},
   "outputs": [
    {
     "data": {
      "text/plain": [
       "17"
      ]
     },
     "execution_count": 7,
     "metadata": {},
     "output_type": "execute_result"
    }
   ],
   "source": [
    "no_feedback_data = metadata[metadata['ConfigFile']=='config/experiment2.json']\n",
    "len(no_feedback_data)"
   ]
  },
  {
   "cell_type": "code",
   "execution_count": 8,
   "metadata": {},
   "outputs": [
    {
     "data": {
      "text/plain": [
       "17"
      ]
     },
     "execution_count": 8,
     "metadata": {},
     "output_type": "execute_result"
    }
   ],
   "source": [
    "exp_choices_history = metadata[metadata['ConfigFile']=='config/experiment4.json']\n",
    "len(exp_choices_history)"
   ]
  },
  {
   "cell_type": "code",
   "execution_count": 9,
   "metadata": {},
   "outputs": [
    {
     "data": {
      "text/plain": [
       "18"
      ]
     },
     "execution_count": 9,
     "metadata": {},
     "output_type": "execute_result"
    }
   ],
   "source": [
    "exp_reward_history = metadata[metadata['ConfigFile']=='config/experiment3.json']\n",
    "len(exp_reward_history)"
   ]
  },
  {
   "cell_type": "markdown",
   "metadata": {},
   "source": [
    "### Classification error"
   ]
  },
  {
   "cell_type": "code",
   "execution_count": 10,
   "metadata": {
    "collapsed": true
   },
   "outputs": [],
   "source": [
    "from outguesser import momentum_gradient_descent\n",
    "def get_classification_error(experiment, history_length):\n",
    "    choices = pd.DataFrame.from_csv(data_dir + experiment['ChoicesFile']).values\n",
    "    x, y = separate_choices_sequences_into_history_and_choice(choices[:,0], history_length)\n",
    "    \n",
    "    ones_row = np.ones((1, x.shape[1]))\n",
    "    x = np.concatenate((ones_row, x), axis=0)\n",
    "\n",
    "    number_of_data_points = x.shape[1]\n",
    "    validation_chunk_size = int(validation_ratio*number_of_data_points)\n",
    "    all_indxs = np.arange(0, number_of_data_points)\n",
    "    weight_prior = np.zeros((history_length+1,))\n",
    "\n",
    "    classification_error=[]\n",
    "    for i in np.arange(0, int(number_of_data_points/validation_chunk_size)):\n",
    "        test_idxs = np.arange(i*validation_chunk_size, (i+1)*validation_chunk_size)\n",
    "        training_idxs = np.array(list(set(all_indxs)-set(test_idxs)))\n",
    "        model_params = momentum_gradient_descent(weight_prior, x[:,training_idxs], y[training_idxs])\n",
    "        predictions = [maximum_a_posteriori(model_params,x_i) for x_i in np.transpose(x[:, test_idxs])]\n",
    "        classification_error.append(np.sum(predictions!=y[test_idxs])/validation_chunk_size)\n",
    "    return classification_error\n",
    "    "
   ]
  },
  {
   "cell_type": "markdown",
   "metadata": {},
   "source": [
    "Cross validation: experiment no feedback"
   ]
  },
  {
   "cell_type": "code",
   "execution_count": 11,
   "metadata": {},
   "outputs": [
    {
     "name": "stderr",
     "output_type": "stream",
     "text": [
      "/home/amadeus/miniconda3/envs/unbias/lib/python3.6/site-packages/ipykernel_launcher.py:3: FutureWarning: from_csv is deprecated. Please use read_csv(...) instead. Note that some of the default arguments are different, so please refer to the documentation for from_csv when changing your function calls\n",
      "  This is separate from the ipykernel package so we can avoid doing imports until\n"
     ]
    },
    {
     "data": {
      "text/plain": [
       "0.43625450180072034"
      ]
     },
     "execution_count": 11,
     "metadata": {},
     "output_type": "execute_result"
    }
   ],
   "source": [
    "validation_ratio = 0.2\n",
    "history_length = 5\n",
    "weight_prior = np.zeros((history_length+1))\n",
    "classification_errors_no_feed=[]\n",
    "for i in range(len(no_feedback_data)):\n",
    "    classification_errors_no_feed.append(get_classification_error(no_feedback_data.iloc[i], history_length))\n",
    "mean_class_errors_no_feed = np.mean(np.array(classification_errors_no_feed), axis=1)\n",
    "np.mean(mean_class_errors_no_feed)"
   ]
  },
  {
   "cell_type": "code",
   "execution_count": 12,
   "metadata": {},
   "outputs": [
    {
     "name": "stderr",
     "output_type": "stream",
     "text": [
      "/home/amadeus/miniconda3/envs/unbias/lib/python3.6/site-packages/ipykernel_launcher.py:3: FutureWarning: from_csv is deprecated. Please use read_csv(...) instead. Note that some of the default arguments are different, so please refer to the documentation for from_csv when changing your function calls\n",
      "  This is separate from the ipykernel package so we can avoid doing imports until\n"
     ]
    },
    {
     "data": {
      "image/png": "[encoded data removed]",
      "text/plain": [
       "<matplotlib.figure.Figure at 0x7fa6612af7b8>"
      ]
     },
     "metadata": {},
     "output_type": "display_data"
    }
   ],
   "source": [
    "mean_error_no_feed = np.zeros((12,))\n",
    "for history_length in range(0,12):\n",
    "    classification_errors_no_feed=[]\n",
    "    for i in range(len(no_feedback_data)):\n",
    "        classification_errors_no_feed.append(get_classification_error(no_feedback_data.iloc[i], history_length))\n",
    "    mean_class_errors_no_feed = np.mean(np.array(classification_errors_no_feed), axis=1)\n",
    "    mean_error_no_feed[history_length] = np.mean(mean_class_errors_no_feed)\n",
    "plt.plot(mean_error_no_feed,'*')\n",
    "plt.show()"
   ]
  },
  {
   "cell_type": "code",
   "execution_count": 13,
   "metadata": {},
   "outputs": [
    {
     "data": {
      "text/plain": [
       "[('poornima', 0.3489361702127659),\n",
       " ('poornima', 0.3702127659574468),\n",
       " ('laura', 0.37872340425531914),\n",
       " ('alex', 0.38297872340425526),\n",
       " ('vassilis', 0.39574468085106385),\n",
       " ('monzilur', 0.4085106382978723),\n",
       " ('brianlau', 0.4127659574468085),\n",
       " ('paulpfeiffer', 0.4170212765957446),\n",
       " ('chen', 0.4382978723404255),\n",
       " ('ninjaturtle', 0.4382978723404255),\n",
       " ('sr', 0.4382978723404255),\n",
       " ('sara', 0.4468085106382979),\n",
       " ('ninjaturtle', 0.4553191489361702),\n",
       " ('nikita', 0.47234042553191485),\n",
       " ('andre', 0.47659574468085103),\n",
       " ('samuel', 0.49361702127659574),\n",
       " ('lr', 0.5234042553191489)]"
      ]
     },
     "execution_count": 13,
     "metadata": {},
     "output_type": "execute_result"
    }
   ],
   "source": [
    "results_no_feed = list(zip(no_feedback_data['AgentName'].values, mean_class_errors_no_feed))\n",
    "results_no_feed.sort(key=lambda x: x[1])\n",
    "results_no_feed"
   ]
  },
  {
   "cell_type": "code",
   "execution_count": 14,
   "metadata": {
    "collapsed": true
   },
   "outputs": [],
   "source": [
    "import seaborn as sns"
   ]
  },
  {
   "cell_type": "code",
   "execution_count": 15,
   "metadata": {},
   "outputs": [
    {
     "data": {
      "image/png": "[encoded data removed]",
      "text/plain": [
       "<matplotlib.figure.Figure at 0x7fa6522e6e80>"
      ]
     },
     "metadata": {},
     "output_type": "display_data"
    }
   ],
   "source": [
    "y = np.arange(0,len(no_feedback_data))\n",
    "x_no_feed = np.zeros((len(no_feedback_data),))\n",
    "my_yticks = []\n",
    "for i in range(len(no_feedback_data)):\n",
    "    x_no_feed[i] = results_no_feed[i][1]\n",
    "    my_yticks.append(results_no_feed[i][0])\n",
    "    \n",
    "    \n",
    "plt.figure(figsize=(5,10))\n",
    "\n",
    "plt.yticks(y, my_yticks)\n",
    "plt.plot(x_no_feed, y,'*')\n",
    "plt.xlabel('classification error')\n",
    "plt.xlim(0.48,0.25)\n",
    "sns.despine()\n",
    "plt.savefig('../unbias/unbias',dpi=150,bbox_inches='tight')\n",
    "plt.show()"
   ]
  },
  {
   "cell_type": "markdown",
   "metadata": {},
   "source": [
    "#### Cross validation: experiment 3"
   ]
  },
  {
   "cell_type": "code",
   "execution_count": 16,
   "metadata": {
    "collapsed": true
   },
   "outputs": [],
   "source": [
    "validation_ratio = 0.2\n",
    "history_length = 5\n",
    "weight_prior = np.zeros((history_length+1))"
   ]
  },
  {
   "cell_type": "code",
   "execution_count": 17,
   "metadata": {},
   "outputs": [
    {
     "name": "stderr",
     "output_type": "stream",
     "text": [
      "/home/amadeus/miniconda3/envs/unbias/lib/python3.6/site-packages/ipykernel_launcher.py:3: FutureWarning: from_csv is deprecated. Please use read_csv(...) instead. Note that some of the default arguments are different, so please refer to the documentation for from_csv when changing your function calls\n",
      "  This is separate from the ipykernel package so we can avoid doing imports until\n"
     ]
    }
   ],
   "source": [
    "classification_errors_exp3=[]\n",
    "for i in range(len(exp_reward_history)):\n",
    "    classification_errors_exp3.append(get_classification_error(exp_reward_history.iloc[i], history_length))"
   ]
  },
  {
   "cell_type": "code",
   "execution_count": 18,
   "metadata": {
    "collapsed": true
   },
   "outputs": [],
   "source": [
    "mean_class_errors_exp3 = np.mean(np.array(classification_errors_exp3), axis=1)"
   ]
  },
  {
   "cell_type": "code",
   "execution_count": 19,
   "metadata": {},
   "outputs": [
    {
     "data": {
      "text/plain": [
       "0.4863945578231293"
      ]
     },
     "execution_count": 19,
     "metadata": {},
     "output_type": "execute_result"
    }
   ],
   "source": [
    "np.mean(mean_class_errors_exp3)"
   ]
  },
  {
   "cell_type": "code",
   "execution_count": 20,
   "metadata": {},
   "outputs": [
    {
     "name": "stderr",
     "output_type": "stream",
     "text": [
      "/home/amadeus/miniconda3/envs/unbias/lib/python3.6/site-packages/ipykernel_launcher.py:3: FutureWarning: from_csv is deprecated. Please use read_csv(...) instead. Note that some of the default arguments are different, so please refer to the documentation for from_csv when changing your function calls\n",
      "  This is separate from the ipykernel package so we can avoid doing imports until\n"
     ]
    },
    {
     "data": {
      "image/png": "[encoded data removed]",
      "text/plain": [
       "<matplotlib.figure.Figure at 0x7fa6522e6d68>"
      ]
     },
     "metadata": {},
     "output_type": "display_data"
    }
   ],
   "source": [
    "mean_error_exp3 = np.zeros((12,))\n",
    "for history_length in range(0,12):\n",
    "    classification_errors_exp3=[]\n",
    "    for i in range(len(exp_reward_history)):\n",
    "        classification_errors_exp3.append(get_classification_error(exp_reward_history.iloc[i], history_length))\n",
    "    mean_class_errors_exp3 = np.mean(np.array(classification_errors_exp3), axis=1)\n",
    "    mean_error_exp3[history_length] = np.mean(mean_class_errors_exp3)\n",
    "plt.plot(mean_error_exp3,'*')\n",
    "plt.show()"
   ]
  },
  {
   "cell_type": "markdown",
   "metadata": {},
   "source": [
    "#### Ranking"
   ]
  },
  {
   "cell_type": "code",
   "execution_count": 21,
   "metadata": {
    "scrolled": true
   },
   "outputs": [
    {
     "data": {
      "text/plain": [
       "[('amadeus', 0.4042553191489361),\n",
       " ('beckie', 0.425531914893617),\n",
       " ('paulpfeiffer', 0.4340425531914893),\n",
       " ('lr', 0.44680851063829785),\n",
       " ('vincent', 0.451063829787234),\n",
       " ('chris', 0.47659574468085103),\n",
       " ('andre', 0.48085106382978726),\n",
       " ('ninjaturtle', 0.48510638297872344),\n",
       " ('christian', 0.48510638297872344),\n",
       " ('auriane', 0.49361702127659574),\n",
       " ('poornima', 0.502127659574468),\n",
       " ('samuel', 0.5063829787234042),\n",
       " ('amadeus', 0.5191489361702127),\n",
       " ('nikita', 0.5191489361702127),\n",
       " ('alex', 0.5234042553191489),\n",
       " ('bhanu', 0.5404255319148936),\n",
       " ('adrien', 0.5446808510638299),\n",
       " ('spiros', 0.548936170212766)]"
      ]
     },
     "execution_count": 21,
     "metadata": {},
     "output_type": "execute_result"
    }
   ],
   "source": [
    "results_exp3 = list(zip(exp_reward_history['AgentName'].values, mean_class_errors_exp3))\n",
    "results_exp3.sort(key=lambda x: x[1])\n",
    "results_exp3"
   ]
  },
  {
   "cell_type": "code",
   "execution_count": 22,
   "metadata": {
    "collapsed": true
   },
   "outputs": [],
   "source": [
    "import seaborn as sns"
   ]
  },
  {
   "cell_type": "code",
   "execution_count": 23,
   "metadata": {},
   "outputs": [
    {
     "data": {
      "image/png": "[encoded data removed]",
      "text/plain": [
       "<matplotlib.figure.Figure at 0x7fa65221af28>"
      ]
     },
     "metadata": {},
     "output_type": "display_data"
    }
   ],
   "source": [
    "y = np.arange(0,len(exp_reward_history))\n",
    "x_exp3 = np.zeros((len(exp_reward_history),))\n",
    "my_yticks = []\n",
    "for i in range(len(exp_reward_history)):\n",
    "    x_exp3[i] = results_exp3[i][1]\n",
    "    my_yticks.append(results_exp3[i][0])\n",
    "    \n",
    "    \n",
    "plt.figure(figsize=(5,10))\n",
    "\n",
    "plt.yticks(y, my_yticks)\n",
    "plt.plot(x_exp3, y,'*')\n",
    "plt.xlabel('classification error')\n",
    "plt.xlim(0.55,0.38)\n",
    "sns.despine()\n",
    "plt.savefig('../unbias/unbias',dpi=150,bbox_inches='tight')\n",
    "plt.show()"
   ]
  },
  {
   "cell_type": "markdown",
   "metadata": {},
   "source": [
    "Cross validation: experiment 4"
   ]
  },
  {
   "cell_type": "code",
   "execution_count": 24,
   "metadata": {},
   "outputs": [
    {
     "name": "stderr",
     "output_type": "stream",
     "text": [
      "/home/amadeus/miniconda3/envs/unbias/lib/python3.6/site-packages/ipykernel_launcher.py:3: FutureWarning: from_csv is deprecated. Please use read_csv(...) instead. Note that some of the default arguments are different, so please refer to the documentation for from_csv when changing your function calls\n",
      "  This is separate from the ipykernel package so we can avoid doing imports until\n"
     ]
    },
    {
     "data": {
      "text/plain": [
       "0.48485607008760945"
      ]
     },
     "execution_count": 24,
     "metadata": {},
     "output_type": "execute_result"
    }
   ],
   "source": [
    "classification_errors_exp4=[]\n",
    "for i in range(len(exp_choices_history)):\n",
    "    classification_errors_exp4.append(get_classification_error(exp_choices_history.iloc[i], history_length))\n",
    "mean_class_errors_exp4 = np.mean(np.array(classification_errors_exp4), axis=1)\n",
    "np.mean(mean_class_errors_exp4)"
   ]
  },
  {
   "cell_type": "code",
   "execution_count": 25,
   "metadata": {},
   "outputs": [
    {
     "name": "stderr",
     "output_type": "stream",
     "text": [
      "/home/amadeus/miniconda3/envs/unbias/lib/python3.6/site-packages/ipykernel_launcher.py:3: FutureWarning: from_csv is deprecated. Please use read_csv(...) instead. Note that some of the default arguments are different, so please refer to the documentation for from_csv when changing your function calls\n",
      "  This is separate from the ipykernel package so we can avoid doing imports until\n"
     ]
    },
    {
     "data": {
      "image/png": "[encoded data removed]",
      "text/plain": [
       "<matplotlib.figure.Figure at 0x7fa6520fbf98>"
      ]
     },
     "metadata": {},
     "output_type": "display_data"
    }
   ],
   "source": [
    "mean_error_exp4 = np.zeros((12,))\n",
    "for history_length in range(0,12):\n",
    "    classification_errors_exp4=[]\n",
    "    for i in range(len(exp_choices_history)):\n",
    "        classification_errors_exp4.append(get_classification_error(exp_choices_history.iloc[i], history_length))\n",
    "    mean_class_errors_exp4 = np.mean(np.array(classification_errors_exp4), axis=1)\n",
    "    mean_error_exp4[history_length] = np.mean(mean_class_errors_exp4)\n",
    "plt.plot(mean_error_exp4,'*')\n",
    "plt.show()"
   ]
  },
  {
   "cell_type": "code",
   "execution_count": 26,
   "metadata": {},
   "outputs": [
    {
     "data": {
      "text/plain": [
       "[('adrien', 0.425531914893617),\n",
       " ('andre', 0.44255319148936173),\n",
       " ('poornima', 0.44680851063829785),\n",
       " ('adriencoin', 0.45531914893617015),\n",
       " ('bhanu_prob', 0.4723404255319149),\n",
       " ('pia', 0.47659574468085103),\n",
       " ('paulpfeiffer', 0.4851063829787233),\n",
       " ('teresa', 0.48510638297872344),\n",
       " ('alessandro', 0.48936170212765956),\n",
       " ('samuel', 0.49361702127659574),\n",
       " ('auriane', 0.5063829787234042),\n",
       " ('bhanu', 0.5063829787234043),\n",
       " ('amadeus', 0.5276595744680851),\n",
       " ('joe', 0.5276595744680852),\n",
       " ('beckie', 0.553191489361702),\n",
       " ('tad', 0.5617021276595745),\n",
       " ('paulpfeiffer', 0.5702127659574467)]"
      ]
     },
     "execution_count": 26,
     "metadata": {},
     "output_type": "execute_result"
    }
   ],
   "source": [
    "results_exp4 = list(zip(exp_choices_history['AgentName'].values, mean_class_errors_exp4))\n",
    "results_exp4.sort(key=lambda x: x[1])\n",
    "results_exp4"
   ]
  },
  {
   "cell_type": "code",
   "execution_count": 27,
   "metadata": {},
   "outputs": [
    {
     "data": {
      "image/png": "[encoded data removed]",
      "text/plain": [
       "<matplotlib.figure.Figure at 0x7fa6520c3b70>"
      ]
     },
     "metadata": {},
     "output_type": "display_data"
    }
   ],
   "source": [
    "y = np.arange(0,len(exp_choices_history))\n",
    "x_exp4 = np.zeros((len(exp_choices_history),))\n",
    "my_yticks = []\n",
    "for i in range(len(exp_choices_history)):\n",
    "    x_exp4[i] = results_exp4[i][1]\n",
    "    my_yticks.append(results_exp4[i][0])\n",
    "    \n",
    "    \n",
    "plt.figure(figsize=(5,10))\n",
    "\n",
    "plt.yticks(y, my_yticks)\n",
    "plt.plot(x_exp4, y,'*')\n",
    "plt.xlabel('classification error')\n",
    "plt.xlim(0.64,0.40)\n",
    "sns.despine()\n",
    "plt.savefig('../unbias/unbias',dpi=150,bbox_inches='tight')\n",
    "plt.show()"
   ]
  },
  {
   "cell_type": "code",
   "execution_count": 28,
   "metadata": {},
   "outputs": [
    {
     "data": {
      "image/png": "[encoded data removed]",
      "text/plain": [
       "<matplotlib.figure.Figure at 0x7fa65211b668>"
      ]
     },
     "metadata": {},
     "output_type": "display_data"
    }
   ],
   "source": [
    "plt.figure(figsize=(6,8))\n",
    "plt.plot(np.ones(len(x_no_feed),),x_no_feed,'*')\n",
    "plt.boxplot(x_no_feed,positions=[1])\n",
    "plt.plot(2*np.ones(len(x_exp3),),x_exp3,'*')\n",
    "plt.boxplot(x_exp3,positions=[2])\n",
    "plt.plot(3*np.ones(len(x_exp4),),x_exp4,'*')\n",
    "plt.boxplot(x_exp4,positions=[3])\n",
    "plt.xticks(np.arange(1,4),['No feedback', 'Feedback 1', 'Feedback 2'])\n",
    "plt.xlim(0.4,3.5)\n",
    "plt.ylabel('prediction error')\n",
    "sns.despine()\n"
   ]
  }
 ],
 "metadata": {
  "kernelspec": {
   "display_name": "Python 3",
   "language": "python",
   "name": "python3"
  },
  "language_info": {
   "codemirror_mode": {
    "name": "ipython",
    "version": 3
   },
   "file_extension": ".py",
   "mimetype": "text/x-python",
   "name": "python",
   "nbconvert_exporter": "python",
   "pygments_lexer": "ipython3",
   "version": "3.6.2"
  }
 },
 "nbformat": 4,
 "nbformat_minor": 2
}
