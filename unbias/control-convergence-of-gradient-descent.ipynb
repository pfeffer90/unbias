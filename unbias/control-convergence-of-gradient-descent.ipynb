{
 "cells": [
  {
   "cell_type": "code",
   "execution_count": 1,
   "metadata": {
    "collapsed": true
   },
   "outputs": [],
   "source": [
    "import numpy as np"
   ]
  },
  {
   "cell_type": "code",
   "execution_count": 2,
   "metadata": {},
   "outputs": [],
   "source": [
    "def simple_gradient_descent(initial_weighting_vector, data, steps=100, learning_rate=0.05):\n",
    "    \"\"\"\n",
    "\n",
    "    :param initial_weighting_vector: a vector of the form [b, w] where b is the bias and w is history weighing\n",
    "    :param data: numpy array with N choices in {-1,1}\n",
    "    :param steps:\n",
    "    :param learning_rate:\n",
    "    :return:\n",
    "    \"\"\"\n",
    "\n",
    "    grad_w = []\n",
    "    \n",
    "    history_length = len(initial_weighting_vector) - 1\n",
    "    number_of_data_points = data.shape[0] - history_length\n",
    "    x_pre = np.ones((history_length + 1, number_of_data_points))\n",
    "    for i in range(1, history_length + 1):\n",
    "        x_pre[i, :] = data[i - 1:i + number_of_data_points - 1]\n",
    "\n",
    "    x_target = data[history_length:]\n",
    "    \n",
    "    w = initial_weighting_vector  # initialize descent\n",
    "    parameter_dependent_lrate = np.ones((2,))\n",
    "    for i in range(1, steps+1):\n",
    "        dw = np.dot(x_pre, ((x_target + 1) / 2 - sigmoid(w, x_pre)))\n",
    "        w += learning_rate * dw\n",
    "        \n",
    "        grad_w.append(dw)\n",
    "                \n",
    "    return w, grad_w"
   ]
  },
  {
   "cell_type": "code",
   "execution_count": 3,
   "metadata": {
    "collapsed": true
   },
   "outputs": [],
   "source": [
    "def momentum_gradient_descent(initial_weighting_vector, data, dw_min=1e-3, steps=100, learning_rate=0.05):\n",
    "    \"\"\"\n",
    "\n",
    "    :param initial_weighting_vector: a vector of the form [b, w] where b is the bias and w is history weighing\n",
    "    :param data: numpy array with N choices in {-1,1}\n",
    "    :param steps:\n",
    "    :param learning_rate:\n",
    "    :return:\n",
    "    \"\"\"\n",
    "\n",
    "    grad_w = []\n",
    "    learning = []\n",
    "    \n",
    "    history_length = len(initial_weighting_vector) - 1\n",
    "    number_of_data_points = data.shape[0] - history_length\n",
    "    x_pre = np.ones((history_length + 1, number_of_data_points))\n",
    "    for i in range(1, history_length + 1):\n",
    "        x_pre[i, :] = data[i - 1:i + number_of_data_points - 1]\n",
    "\n",
    "    x_target = data[history_length:]\n",
    "    dw_prev = 1e9\n",
    "    w = initial_weighting_vector  # initialize descent\n",
    "    gamma = 0.5\n",
    "    v = np.zeros((len(initial_weighting_vector),))\n",
    "    for i in range(1, steps+1):\n",
    "        dw = np.dot(x_pre, ((x_target + 1) / 2 - sigmoid(w, x_pre)))\n",
    "        v = gamma*v + learning_rate*dw\n",
    "        w += v\n",
    "        \n",
    "        learning.append(learning_rate)\n",
    "        grad_w.append(dw)\n",
    "        if np.linalg.norm(dw) < dw_min:\n",
    "            break\n",
    "        #elif np.linalg.norm(dw) > dw_prev:\n",
    "        #    learning_rate = learning_rate/2\n",
    "        #dw_prev = np.linalg.norm(dw)\n",
    "                \n",
    "    return w, grad_w"
   ]
  },
  {
   "cell_type": "code",
   "execution_count": 4,
   "metadata": {
    "collapsed": true
   },
   "outputs": [],
   "source": [
    "def gradient_descent(initial_weighting_vector, data, dw_min=1e-3, steps=100, learning_rate=0.05):\n",
    "    \"\"\"\n",
    "\n",
    "    :param initial_weighting_vector: a vector of the form [b, w] where b is the bias and w is history weighing\n",
    "    :param data: numpy array with N choices in {-1,1}\n",
    "    :param steps:\n",
    "    :param learning_rate:\n",
    "    :return:\n",
    "    \"\"\"\n",
    "\n",
    "    grad_w = []\n",
    "    learning = []\n",
    "    \n",
    "    history_length = len(initial_weighting_vector) - 1\n",
    "    number_of_data_points = data.shape[0] - history_length\n",
    "    x_pre = np.ones((history_length + 1, number_of_data_points))\n",
    "    for i in range(1, history_length + 1):\n",
    "        x_pre[i, :] = data[i - 1:i + number_of_data_points - 1]\n",
    "\n",
    "    x_target = data[history_length:]\n",
    "    dw_prev = 1e9\n",
    "    w = initial_weighting_vector  # initialize descent\n",
    "    for i in range(1, steps+1):\n",
    "        dw = np.dot(x_pre, ((x_target + 1) / 2 - sigmoid(w, x_pre)))\n",
    "        w += learning_rate * dw\n",
    "        \n",
    "        learning.append(learning_rate)\n",
    "        grad_w.append(dw)\n",
    "        if np.linalg.norm(dw) < dw_min:\n",
    "            break\n",
    "        elif np.linalg.norm(dw) > dw_prev:\n",
    "            learning_rate = learning_rate/2\n",
    "        dw_prev = np.linalg.norm(dw)\n",
    "                \n",
    "    return w, grad_w, learning"
   ]
  },
  {
   "cell_type": "code",
   "execution_count": 5,
   "metadata": {},
   "outputs": [],
   "source": [
    "from training_data import generate_stationary_agent_choices,sigmoid\n",
    "\n",
    "nb_trials = 200\n",
    "w_gen = np.zeros((2,))\n",
    "w_gen[1] = -1\n",
    "initial_choices = np.ones((1,))\n",
    "\n",
    "data = generate_stationary_agent_choices(nb_trials, w_gen, initial_choices)\n",
    "\n",
    "\n",
    "w, dw = simple_gradient_descent(np.zeros((2,)),data[:200], 1000, 0.05)\n",
    "\n",
    "\n",
    "w_gd, dw_gd, learning = gradient_descent(np.zeros((2,)),data[:200], 1e-4, 1000, 0.05)\n",
    "\n",
    "\n",
    "w_momd, dw_momd = momentum_gradient_descent(np.zeros((2,)),data[:200], 1e-4, 1000, 0.05)\n"
   ]
  },
  {
   "cell_type": "code",
   "execution_count": 6,
   "metadata": {},
   "outputs": [
    {
     "data": {
      "text/plain": [
       "array([ 0., -1.])"
      ]
     },
     "execution_count": 6,
     "metadata": {},
     "output_type": "execute_result"
    }
   ],
   "source": [
    "w_gen"
   ]
  },
  {
   "cell_type": "code",
   "execution_count": 7,
   "metadata": {},
   "outputs": [
    {
     "data": {
      "text/plain": [
       "array([-0.42308311, -0.24036962])"
      ]
     },
     "execution_count": 7,
     "metadata": {},
     "output_type": "execute_result"
    }
   ],
   "source": [
    "w"
   ]
  },
  {
   "cell_type": "code",
   "execution_count": 8,
   "metadata": {},
   "outputs": [
    {
     "data": {
      "text/plain": [
       "array([-0.09189129, -0.78503837])"
      ]
     },
     "execution_count": 8,
     "metadata": {},
     "output_type": "execute_result"
    }
   ],
   "source": [
    "w_gd"
   ]
  },
  {
   "cell_type": "code",
   "execution_count": 9,
   "metadata": {},
   "outputs": [
    {
     "data": {
      "text/plain": [
       "array([-0.09189165, -0.78503984])"
      ]
     },
     "execution_count": 9,
     "metadata": {},
     "output_type": "execute_result"
    }
   ],
   "source": [
    "w_momd"
   ]
  },
  {
   "cell_type": "code",
   "execution_count": 10,
   "metadata": {},
   "outputs": [
    {
     "data": {
      "text/plain": [
       "97"
      ]
     },
     "execution_count": 10,
     "metadata": {},
     "output_type": "execute_result"
    }
   ],
   "source": [
    "np.sum(data==1)"
   ]
  },
  {
   "cell_type": "code",
   "execution_count": 11,
   "metadata": {},
   "outputs": [
    {
     "data": {
      "image/png": "[encoded data removed]",
      "text/plain": [
       "<matplotlib.figure.Figure at 0x7fb1f587f5c0>"
      ]
     },
     "metadata": {},
     "output_type": "display_data"
    }
   ],
   "source": [
    "import matplotlib.pyplot as plt\n",
    "\n",
    "plt.plot(dw)\n",
    "plt.show()"
   ]
  },
  {
   "cell_type": "code",
   "execution_count": 12,
   "metadata": {},
   "outputs": [
    {
     "data": {
      "image/png": "[encoded data removed]",
      "text/plain": [
       "<matplotlib.figure.Figure at 0x7fb1f1223080>"
      ]
     },
     "metadata": {},
     "output_type": "display_data"
    }
   ],
   "source": [
    "import matplotlib.pyplot as plt\n",
    "\n",
    "plt.plot(dw_gd)\n",
    "plt.show()"
   ]
  },
  {
   "cell_type": "code",
   "execution_count": 13,
   "metadata": {},
   "outputs": [
    {
     "data": {
      "image/png": "[encoded data removed]",
      "text/plain": [
       "<matplotlib.figure.Figure at 0x7fb1f109fe10>"
      ]
     },
     "metadata": {},
     "output_type": "display_data"
    }
   ],
   "source": [
    "import matplotlib.pyplot as plt\n",
    "\n",
    "plt.plot(dw_momd)\n",
    "plt.show()"
   ]
  },
  {
   "cell_type": "code",
   "execution_count": 14,
   "metadata": {
    "scrolled": true
   },
   "outputs": [
    {
     "data": {
      "image/png": "[encoded data removed]",
      "text/plain": [
       "<matplotlib.figure.Figure at 0x7fb1f1032ba8>"
      ]
     },
     "metadata": {},
     "output_type": "display_data"
    }
   ],
   "source": [
    "import matplotlib.pyplot as plt\n",
    "\n",
    "plt.plot(learning)\n",
    "plt.show()"
   ]
  },
  {
   "cell_type": "code",
   "execution_count": 15,
   "metadata": {},
   "outputs": [
    {
     "ename": "IndexError",
     "evalue": "too many indices for array",
     "output_type": "error",
     "traceback": [
      "\u001b[0;31m---------------------------------------------------------------------------\u001b[0m",
      "\u001b[0;31mIndexError\u001b[0m                                Traceback (most recent call last)",
      "\u001b[0;32m<ipython-input-15-b80bc9af4a69>\u001b[0m in \u001b[0;36m<module>\u001b[0;34m()\u001b[0m\n\u001b[0;32m----> 1\u001b[0;31m \u001b[0mplt\u001b[0m\u001b[0;34m.\u001b[0m\u001b[0mplot\u001b[0m\u001b[0;34m(\u001b[0m\u001b[0mw_momd\u001b[0m\u001b[0;34m[\u001b[0m\u001b[0;36m0\u001b[0m\u001b[0;34m,\u001b[0m\u001b[0;34m:\u001b[0m\u001b[0;34m]\u001b[0m\u001b[0;34m)\u001b[0m\u001b[0;34m\u001b[0m\u001b[0m\n\u001b[0m\u001b[1;32m      2\u001b[0m \u001b[0mplt\u001b[0m\u001b[0;34m.\u001b[0m\u001b[0mshow\u001b[0m\u001b[0;34m(\u001b[0m\u001b[0;34m)\u001b[0m\u001b[0;34m\u001b[0m\u001b[0m\n",
      "\u001b[0;31mIndexError\u001b[0m: too many indices for array"
     ]
    }
   ],
   "source": []
  },
  {
   "cell_type": "code",
   "execution_count": 16,
   "metadata": {},
   "outputs": [
    {
     "data": {
      "text/plain": [
       "array([-0.09189165, -0.78503984])"
      ]
     },
     "execution_count": 16,
     "metadata": {},
     "output_type": "execute_result"
    }
   ],
   "source": []
  }
 ],
 "metadata": {
  "kernelspec": {
   "display_name": "Python 3",
   "language": "python",
   "name": "python3"
  },
  "language_info": {
   "codemirror_mode": {
    "name": "ipython",
    "version": 3
   },
   "file_extension": ".py",
   "mimetype": "text/x-python",
   "name": "python",
   "nbconvert_exporter": "python",
   "pygments_lexer": "ipython3",
   "version": "3.6.2"
  }
 },
 "nbformat": 4,
 "nbformat_minor": 2
}
