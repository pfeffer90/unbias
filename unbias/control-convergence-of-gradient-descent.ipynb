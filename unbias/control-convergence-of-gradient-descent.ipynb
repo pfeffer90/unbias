{
 "cells": [
  {
   "cell_type": "code",
   "execution_count": 5,
   "metadata": {
    "collapsed": true
   },
   "outputs": [],
   "source": [
    "import numpy as np"
   ]
  },
  {
   "cell_type": "code",
   "execution_count": 6,
   "metadata": {
    "collapsed": true
   },
   "outputs": [],
   "source": [
    "def momentum_gradient_descent(initial_weighting_vector, in_data,oit_data, dw_min=1e-3, steps=1000, learning_rate=0.05):\n",
    "    \"\"\"\n",
    "\n",
    "    :param initial_weighting_vector: a vector of the form [b, w] where b is the bias and w is history weighing\n",
    "    :param data: numpy array with N choices in {-1,1}\n",
    "    :param steps:\n",
    "    :param learning_rate:\n",
    "    :return:\n",
    "    \"\"\"\n",
    "\n",
    "    grad_w = []\n",
    "    \n",
    "    ones_row = np.ones((1, in_data.shape[1]))\n",
    "    in_data = np.concatenate((ones_row, in_data), axis=0)\n",
    "    \n",
    "    x_pre = in_data\n",
    "    x_target = out_data\n",
    "\n",
    "    dw_prev = 1e9\n",
    "    w = initial_weighting_vector  # initialize descent\n",
    "    gamma = 0.5\n",
    "    v = np.zeros((len(initial_weighting_vector),))\n",
    "    for i in range(1, steps+1):\n",
    "        dw = np.dot(x_pre, ((x_target + 1) / 2 - sigmoid(w, x_pre)))\n",
    "        v = gamma*v + learning_rate*dw\n",
    "        w += v\n",
    "        \n",
    "        grad_w.append(dw)\n",
    "        if np.linalg.norm(dw) < dw_min:\n",
    "            break\n",
    "        if np.linalg.norm(dw) > np.linalg.norm(dw_prev):\n",
    "            learning_rate /= 2\n",
    "        dw_prev = dw\n",
    "                \n",
    "    return w, grad_w"
   ]
  },
  {
   "cell_type": "code",
   "execution_count": 7,
   "metadata": {
    "collapsed": true
   },
   "outputs": [],
   "source": [
    "def regularized_momentum_gradient_descent(initial_weighting_vector, in_data, out_data, dw_min=1e-3, steps=1000,\n",
    "                                          learning_rate=0.05, lamb=0.1):\n",
    "    \"\"\"\n",
    "\n",
    "    :param initial_weighting_vector: a vector of the form [b, w] where b is the bias and w is history weighing\n",
    "    :param in_data:\n",
    "    :param out_data:\n",
    "    :param dw_min: convergence criterion\n",
    "    :param steps:\n",
    "    :param learning_rate:\n",
    "    :param lamb: regularizer\n",
    "    :return:\n",
    "    \"\"\"\n",
    "    grad_w = []\n",
    "\n",
    "    ones_row = np.ones((1, in_data.shape[1]))\n",
    "    in_data = np.concatenate((ones_row, in_data), axis=0)\n",
    "    \n",
    "    x_pre = in_data\n",
    "    x_target = out_data\n",
    "\n",
    "    dw_prev = 1e9\n",
    "    w = initial_weighting_vector  # initialize descent\n",
    "    gamma = 0.5\n",
    "    v = np.zeros((len(initial_weighting_vector),))\n",
    "    for i in range(1, steps + 1):\n",
    "        \n",
    "        regul = lamb*np.sign(w)\n",
    "        regul[0] = 0\n",
    "        \n",
    "        dw = np.dot(x_pre, ((x_target + 1) / 2 - sigmoid(w, x_pre))) + regul\n",
    "        v = gamma * v + learning_rate * dw\n",
    "        w += v\n",
    "\n",
    "        grad_w.append(dw)\n",
    "        if np.linalg.norm(dw) < dw_min:\n",
    "            break\n",
    "        if np.linalg.norm(dw) > np.linalg.norm(dw_prev):\n",
    "            learning_rate /= 2\n",
    "        dw_prev = dw\n",
    "\n",
    "    return w, grad_w\n"
   ]
  },
  {
   "cell_type": "code",
   "execution_count": 8,
   "metadata": {},
   "outputs": [],
   "source": [
    "from training_data import generate_stationary_agent_choices,sigmoid\n",
    "from outguesser import separate_choices_sequences_into_history_and_choice\n",
    "\n",
    "nb_trials = 250\n",
    "w_gen = np.zeros((4,))\n",
    "w_gen[0] = 0.4\n",
    "w_gen[1] = 0.4\n",
    "w_gen[2] = -0.7\n",
    "w_gen[3] = 1\n",
    "initial_choices = np.ones((1,))\n",
    "\n",
    "data = generate_stationary_agent_choices(nb_trials, w_gen, initial_choices)\n",
    "\n",
    "in_data, out_data = separate_choices_sequences_into_history_and_choice(data, 14)\n",
    "\n",
    "w_gd, dw_gd = regularized_momentum_gradient_descent(np.zeros((15,)),in_data,out_data, 1e-4, 1000, 0.05, 0.2)\n",
    "\n",
    "\n",
    "w_momd, dw_momd = momentum_gradient_descent(np.zeros((15,)),in_data,out_data, 1e-4, 1000, 0.05)\n"
   ]
  },
  {
   "cell_type": "code",
   "execution_count": 9,
   "metadata": {},
   "outputs": [
    {
     "data": {
      "text/plain": [
       "array([ 0.4,  0.4, -0.7,  1. ])"
      ]
     },
     "execution_count": 9,
     "metadata": {},
     "output_type": "execute_result"
    }
   ],
   "source": [
    "w_gen"
   ]
  },
  {
   "cell_type": "code",
   "execution_count": 10,
   "metadata": {},
   "outputs": [
    {
     "data": {
      "text/plain": [
       "array([ 0.5322974 ,  0.60405839, -0.70220678,  0.03413598,  0.27894242,\n",
       "       -0.24839969,  0.09274482, -0.00391888,  0.06892287, -0.06883584,\n",
       "       -0.03640932,  0.32094739, -0.20534856,  0.1440259 , -0.1587629 ])"
      ]
     },
     "execution_count": 10,
     "metadata": {},
     "output_type": "execute_result"
    }
   ],
   "source": [
    "w_gd"
   ]
  },
  {
   "cell_type": "code",
   "execution_count": 11,
   "metadata": {},
   "outputs": [
    {
     "data": {
      "text/plain": [
       "array([ 0.53011481,  0.59032405, -0.68891526,  0.02354332,  0.2727363 ,\n",
       "       -0.23666802,  0.07706822,  0.01071781,  0.05732157, -0.06196812,\n",
       "       -0.02913739,  0.30819218, -0.18823417,  0.12936988, -0.14740937])"
      ]
     },
     "execution_count": 11,
     "metadata": {},
     "output_type": "execute_result"
    }
   ],
   "source": [
    "w_momd"
   ]
  },
  {
   "cell_type": "code",
   "execution_count": 12,
   "metadata": {},
   "outputs": [
    {
     "data": {
      "text/plain": [
       "155"
      ]
     },
     "execution_count": 12,
     "metadata": {},
     "output_type": "execute_result"
    }
   ],
   "source": [
    "np.sum(data==1)"
   ]
  },
  {
   "cell_type": "code",
   "execution_count": 13,
   "metadata": {},
   "outputs": [
    {
     "data": {
      "image/png": "[encoded data removed]",
      "text/plain": [
       "<matplotlib.figure.Figure at 0x7f2f014430f0>"
      ]
     },
     "metadata": {},
     "output_type": "display_data"
    }
   ],
   "source": [
    "import matplotlib.pyplot as plt\n",
    "\n",
    "plt.plot(dw_gd)\n",
    "plt.show()"
   ]
  },
  {
   "cell_type": "code",
   "execution_count": 14,
   "metadata": {},
   "outputs": [
    {
     "data": {
      "image/png": "[encoded data removed]",
      "text/plain": [
       "<matplotlib.figure.Figure at 0x7f2efd606a58>"
      ]
     },
     "metadata": {},
     "output_type": "display_data"
    }
   ],
   "source": [
    "import matplotlib.pyplot as plt\n",
    "\n",
    "plt.plot(dw_momd)\n",
    "plt.show()"
   ]
  },
  {
   "cell_type": "code",
   "execution_count": null,
   "metadata": {
    "collapsed": true
   },
   "outputs": [],
   "source": []
  }
 ],
 "metadata": {
  "kernelspec": {
   "display_name": "Python 3",
   "language": "python",
   "name": "python3"
  },
  "language_info": {
   "codemirror_mode": {
    "name": "ipython",
    "version": 3
   },
   "file_extension": ".py",
   "mimetype": "text/x-python",
   "name": "python",
   "nbconvert_exporter": "python",
   "pygments_lexer": "ipython3",
   "version": "3.6.2"
  }
 },
 "nbformat": 4,
 "nbformat_minor": 2
}
