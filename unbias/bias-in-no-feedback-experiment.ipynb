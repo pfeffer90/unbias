{
 "cells": [
  {
   "cell_type": "code",
   "execution_count": 1,
   "metadata": {
    "collapsed": true
   },
   "outputs": [],
   "source": [
    "import numpy as np\n",
    "from training_data import generate_stationary_agent_choices\n",
    "from collections import Counter\n",
    "import pandas as pd"
   ]
  },
  {
   "cell_type": "code",
   "execution_count": 2,
   "metadata": {
    "collapsed": true
   },
   "outputs": [],
   "source": [
    "from load_data import load_common_metadata\n",
    "from outguesser import linear_choice_history_dependent_model"
   ]
  },
  {
   "cell_type": "code",
   "execution_count": 3,
   "metadata": {
    "collapsed": true
   },
   "outputs": [],
   "source": [
    "from outguesser import separate_choices_sequences_into_history_and_choice\n",
    "\n",
    "from outguesser import momentum_gradient_descent, maximum_a_posteriori"
   ]
  },
  {
   "cell_type": "code",
   "execution_count": 4,
   "metadata": {
    "collapsed": true
   },
   "outputs": [],
   "source": [
    "data_dir = '../experiments/'\n",
    "metadata = load_common_metadata(data_dir)"
   ]
  },
  {
   "cell_type": "code",
   "execution_count": 41,
   "metadata": {},
   "outputs": [
    {
     "data": {
      "text/html": [
       "<div>\n",
       "<style>\n",
       "    .dataframe thead tr:only-child th {\n",
       "        text-align: right;\n",
       "    }\n",
       "\n",
       "    .dataframe thead th {\n",
       "        text-align: left;\n",
       "    }\n",
       "\n",
       "    .dataframe tbody tr th {\n",
       "        vertical-align: top;\n",
       "    }\n",
       "</style>\n",
       "<table border=\"1\" class=\"dataframe\">\n",
       "  <thead>\n",
       "    <tr style=\"text-align: right;\">\n",
       "      <th></th>\n",
       "      <th>AgentName</th>\n",
       "      <th>ChoicesFile</th>\n",
       "      <th>ConfigFile</th>\n",
       "      <th>Date</th>\n",
       "      <th>DeviceType</th>\n",
       "      <th>GameIdx</th>\n",
       "      <th>GameVariant</th>\n",
       "      <th>ModelFile</th>\n",
       "    </tr>\n",
       "  </thead>\n",
       "  <tbody>\n",
       "    <tr>\n",
       "      <th>0</th>\n",
       "      <td>alessandro</td>\n",
       "      <td>agent_choices_alessandro_0001.csv</td>\n",
       "      <td>config/experiment1.json</td>\n",
       "      <td>20180828_08:31:30</td>\n",
       "      <td>Desktop</td>\n",
       "      <td>1</td>\n",
       "      <td>no_feedback_v1</td>\n",
       "      <td>model_params_alessandro_0001.csv</td>\n",
       "    </tr>\n",
       "    <tr>\n",
       "      <th>1</th>\n",
       "      <td>sara</td>\n",
       "      <td>agent_choices_sara_0001.csv</td>\n",
       "      <td>config/experiment2.json</td>\n",
       "      <td>20180828_14:24:07</td>\n",
       "      <td>Desktop</td>\n",
       "      <td>1</td>\n",
       "      <td>no_feedback_v2</td>\n",
       "      <td>model_params_sara_0001.csv</td>\n",
       "    </tr>\n",
       "    <tr>\n",
       "      <th>2</th>\n",
       "      <td>bhanu</td>\n",
       "      <td>agent_choices_bhanu_0002.csv</td>\n",
       "      <td>config/experiment1.json</td>\n",
       "      <td>20180828_10:20:20</td>\n",
       "      <td>Mobile</td>\n",
       "      <td>2</td>\n",
       "      <td>no_feedback_v1</td>\n",
       "      <td>model_params_bhanu_0002.csv</td>\n",
       "    </tr>\n",
       "    <tr>\n",
       "      <th>3</th>\n",
       "      <td>paulpfeiffer</td>\n",
       "      <td>agent_choices_paulpfeiffer_0002.csv</td>\n",
       "      <td>config/experiment1.json</td>\n",
       "      <td>20180828_10:21:55</td>\n",
       "      <td>Mobile</td>\n",
       "      <td>2</td>\n",
       "      <td>no_feedback_v1</td>\n",
       "      <td>model_params_paulpfeiffer_0002.csv</td>\n",
       "    </tr>\n",
       "    <tr>\n",
       "      <th>4</th>\n",
       "      <td>samuel</td>\n",
       "      <td>agent_choices_samuel_0001.csv</td>\n",
       "      <td>config/experiment2.json</td>\n",
       "      <td>20180828_14:08:56</td>\n",
       "      <td>Desktop</td>\n",
       "      <td>1</td>\n",
       "      <td>no_feedback_v2</td>\n",
       "      <td>model_params_samuel_0001.csv</td>\n",
       "    </tr>\n",
       "    <tr>\n",
       "      <th>5</th>\n",
       "      <td>lr</td>\n",
       "      <td>agent_choices_lr_0001.csv</td>\n",
       "      <td>config/experiment2.json</td>\n",
       "      <td>20180828_14:19:14</td>\n",
       "      <td>Desktop</td>\n",
       "      <td>1</td>\n",
       "      <td>no_feedback_v2</td>\n",
       "      <td>model_params_lr_0001.csv</td>\n",
       "    </tr>\n",
       "    <tr>\n",
       "      <th>6</th>\n",
       "      <td>paulpfeiffer</td>\n",
       "      <td>agent_choices_paulpfeiffer_0001.csv</td>\n",
       "      <td>config/experiment1.json</td>\n",
       "      <td>20180827_23:12:38</td>\n",
       "      <td>Desktop</td>\n",
       "      <td>1</td>\n",
       "      <td>no_feedback_v1</td>\n",
       "      <td>model_params_paulpfeiffer_0001.csv</td>\n",
       "    </tr>\n",
       "    <tr>\n",
       "      <th>7</th>\n",
       "      <td>chen</td>\n",
       "      <td>agent_choices_chen_0001.csv</td>\n",
       "      <td>config/experiment2.json</td>\n",
       "      <td>20180828_14:16:44</td>\n",
       "      <td>Desktop</td>\n",
       "      <td>1</td>\n",
       "      <td>no_feedback_v2</td>\n",
       "      <td>model_params_chen_0001.csv</td>\n",
       "    </tr>\n",
       "    <tr>\n",
       "      <th>8</th>\n",
       "      <td>alex</td>\n",
       "      <td>agent_choices_alex_0001.csv</td>\n",
       "      <td>config/experiment2.json</td>\n",
       "      <td>20180828_14:21:02</td>\n",
       "      <td>Mobile</td>\n",
       "      <td>1</td>\n",
       "      <td>no_feedback_v2</td>\n",
       "      <td>model_params_alex_0001.csv</td>\n",
       "    </tr>\n",
       "    <tr>\n",
       "      <th>9</th>\n",
       "      <td>bhanu</td>\n",
       "      <td>agent_choices_bhanu_0001.csv</td>\n",
       "      <td>config/experiment1.json</td>\n",
       "      <td>20180827_23:17:35</td>\n",
       "      <td>Desktop</td>\n",
       "      <td>1</td>\n",
       "      <td>no_feedback_v1</td>\n",
       "      <td>model_params_bhanu_0001.csv</td>\n",
       "    </tr>\n",
       "    <tr>\n",
       "      <th>10</th>\n",
       "      <td>ninjaturtle</td>\n",
       "      <td>agent_choices_ninjaturtle_0001.csv</td>\n",
       "      <td>config/experiment2.json</td>\n",
       "      <td>20180828_14:09:50</td>\n",
       "      <td>Desktop</td>\n",
       "      <td>1</td>\n",
       "      <td>no_feedback_v2</td>\n",
       "      <td>model_params_ninjaturtle_0001.csv</td>\n",
       "    </tr>\n",
       "    <tr>\n",
       "      <th>11</th>\n",
       "      <td>paulpfeiffer</td>\n",
       "      <td>agent_choices_paulpfeiffer_0003.csv</td>\n",
       "      <td>config/experiment2.json</td>\n",
       "      <td>20180828_13:51:49</td>\n",
       "      <td>Desktop</td>\n",
       "      <td>3</td>\n",
       "      <td>no_feedback_v2</td>\n",
       "      <td>model_params_paulpfeiffer_0003.csv</td>\n",
       "    </tr>\n",
       "    <tr>\n",
       "      <th>12</th>\n",
       "      <td>poornima</td>\n",
       "      <td>agent_choices_poornima_0002.csv</td>\n",
       "      <td>config/experiment2.json</td>\n",
       "      <td>20180828_14:14:19</td>\n",
       "      <td>Desktop</td>\n",
       "      <td>2</td>\n",
       "      <td>no_feedback_v2</td>\n",
       "      <td>model_params_poornima_0002.csv</td>\n",
       "    </tr>\n",
       "    <tr>\n",
       "      <th>13</th>\n",
       "      <td>nikita</td>\n",
       "      <td>agent_choices_nikita_0001.csv</td>\n",
       "      <td>config/experiment2.json</td>\n",
       "      <td>20180828_14:26:24</td>\n",
       "      <td>Desktop</td>\n",
       "      <td>1</td>\n",
       "      <td>no_feedback_v2</td>\n",
       "      <td>model_params_nikita_0001.csv</td>\n",
       "    </tr>\n",
       "    <tr>\n",
       "      <th>14</th>\n",
       "      <td>ninjaturtle</td>\n",
       "      <td>agent_choices_ninjaturtle_0002.csv</td>\n",
       "      <td>config/experiment2.json</td>\n",
       "      <td>20180828_14:14:35</td>\n",
       "      <td>Mobile</td>\n",
       "      <td>2</td>\n",
       "      <td>no_feedback_v2</td>\n",
       "      <td>model_params_ninjaturtle_0002.csv</td>\n",
       "    </tr>\n",
       "    <tr>\n",
       "      <th>15</th>\n",
       "      <td>andre</td>\n",
       "      <td>agent_choices_andre_0001.csv</td>\n",
       "      <td>config/experiment2.json</td>\n",
       "      <td>20180828_14:12:28</td>\n",
       "      <td>Desktop</td>\n",
       "      <td>1</td>\n",
       "      <td>no_feedback_v2</td>\n",
       "      <td>model_params_andre_0001.csv</td>\n",
       "    </tr>\n",
       "    <tr>\n",
       "      <th>16</th>\n",
       "      <td>amadeus</td>\n",
       "      <td>agent_choices_amadeus_0001.csv</td>\n",
       "      <td>config/experiment1.json</td>\n",
       "      <td>20180827_23:11:00</td>\n",
       "      <td>Desktop</td>\n",
       "      <td>1</td>\n",
       "      <td>no_feedback_v1</td>\n",
       "      <td>model_params_amadeus_0001.csv</td>\n",
       "    </tr>\n",
       "    <tr>\n",
       "      <th>17</th>\n",
       "      <td>laura</td>\n",
       "      <td>agent_choices_laura_0001.csv</td>\n",
       "      <td>config/experiment2.json</td>\n",
       "      <td>20180828_14:09:52</td>\n",
       "      <td>Mobile</td>\n",
       "      <td>1</td>\n",
       "      <td>no_feedback_v2</td>\n",
       "      <td>model_params_laura_0001.csv</td>\n",
       "    </tr>\n",
       "    <tr>\n",
       "      <th>18</th>\n",
       "      <td>amadeus</td>\n",
       "      <td>agent_choices_amadeus_0002.csv</td>\n",
       "      <td>config/experiment1.json</td>\n",
       "      <td>20180828_10:22:08</td>\n",
       "      <td>Mobile</td>\n",
       "      <td>2</td>\n",
       "      <td>no_feedback_v1</td>\n",
       "      <td>model_params_amadeus_0002.csv</td>\n",
       "    </tr>\n",
       "    <tr>\n",
       "      <th>19</th>\n",
       "      <td>sr</td>\n",
       "      <td>agent_choices_sr_0001.csv</td>\n",
       "      <td>config/experiment2.json</td>\n",
       "      <td>20180828_14:23:28</td>\n",
       "      <td>Desktop</td>\n",
       "      <td>1</td>\n",
       "      <td>no_feedback_v2</td>\n",
       "      <td>model_params_sr_0001.csv</td>\n",
       "    </tr>\n",
       "    <tr>\n",
       "      <th>20</th>\n",
       "      <td>poornima</td>\n",
       "      <td>agent_choices_poornima_0001.csv</td>\n",
       "      <td>config/experiment2.json</td>\n",
       "      <td>20180828_14:07:53</td>\n",
       "      <td>Mobile</td>\n",
       "      <td>1</td>\n",
       "      <td>no_feedback_v2</td>\n",
       "      <td>model_params_poornima_0001.csv</td>\n",
       "    </tr>\n",
       "    <tr>\n",
       "      <th>21</th>\n",
       "      <td>brianlau</td>\n",
       "      <td>agent_choices_brianlau_0001.csv</td>\n",
       "      <td>config/experiment2.json</td>\n",
       "      <td>20180828_14:25:21</td>\n",
       "      <td>Mobile</td>\n",
       "      <td>1</td>\n",
       "      <td>no_feedback_v2</td>\n",
       "      <td>model_params_brianlau_0001.csv</td>\n",
       "    </tr>\n",
       "    <tr>\n",
       "      <th>22</th>\n",
       "      <td>monzilur</td>\n",
       "      <td>agent_choices_monzilur_0001.csv</td>\n",
       "      <td>config/experiment2.json</td>\n",
       "      <td>20180828_14:12:27</td>\n",
       "      <td>Desktop</td>\n",
       "      <td>1</td>\n",
       "      <td>no_feedback_v2</td>\n",
       "      <td>model_params_monzilur_0001.csv</td>\n",
       "    </tr>\n",
       "    <tr>\n",
       "      <th>23</th>\n",
       "      <td>vincent</td>\n",
       "      <td>agent_choices_vincent_0001.csv</td>\n",
       "      <td>config/experiment1.json</td>\n",
       "      <td>20180828_08:29:07</td>\n",
       "      <td>Desktop</td>\n",
       "      <td>1</td>\n",
       "      <td>no_feedback_v1</td>\n",
       "      <td>model_params_vincent_0001.csv</td>\n",
       "    </tr>\n",
       "    <tr>\n",
       "      <th>24</th>\n",
       "      <td>vassilis</td>\n",
       "      <td>agent_choices_vassilis_0001.csv</td>\n",
       "      <td>config/experiment2.json</td>\n",
       "      <td>20180828_14:17:46</td>\n",
       "      <td>Mobile</td>\n",
       "      <td>1</td>\n",
       "      <td>no_feedback_v2</td>\n",
       "      <td>model_params_vassilis_0001.csv</td>\n",
       "    </tr>\n",
       "  </tbody>\n",
       "</table>\n",
       "</div>"
      ],
      "text/plain": [
       "       AgentName                          ChoicesFile  \\\n",
       "0     alessandro    agent_choices_alessandro_0001.csv   \n",
       "1           sara          agent_choices_sara_0001.csv   \n",
       "2          bhanu         agent_choices_bhanu_0002.csv   \n",
       "3   paulpfeiffer  agent_choices_paulpfeiffer_0002.csv   \n",
       "4         samuel        agent_choices_samuel_0001.csv   \n",
       "5             lr            agent_choices_lr_0001.csv   \n",
       "6   paulpfeiffer  agent_choices_paulpfeiffer_0001.csv   \n",
       "7           chen          agent_choices_chen_0001.csv   \n",
       "8           alex          agent_choices_alex_0001.csv   \n",
       "9          bhanu         agent_choices_bhanu_0001.csv   \n",
       "10   ninjaturtle   agent_choices_ninjaturtle_0001.csv   \n",
       "11  paulpfeiffer  agent_choices_paulpfeiffer_0003.csv   \n",
       "12      poornima      agent_choices_poornima_0002.csv   \n",
       "13        nikita        agent_choices_nikita_0001.csv   \n",
       "14   ninjaturtle   agent_choices_ninjaturtle_0002.csv   \n",
       "15         andre         agent_choices_andre_0001.csv   \n",
       "16       amadeus       agent_choices_amadeus_0001.csv   \n",
       "17         laura         agent_choices_laura_0001.csv   \n",
       "18       amadeus       agent_choices_amadeus_0002.csv   \n",
       "19            sr            agent_choices_sr_0001.csv   \n",
       "20      poornima      agent_choices_poornima_0001.csv   \n",
       "21      brianlau      agent_choices_brianlau_0001.csv   \n",
       "22      monzilur      agent_choices_monzilur_0001.csv   \n",
       "23       vincent       agent_choices_vincent_0001.csv   \n",
       "24      vassilis      agent_choices_vassilis_0001.csv   \n",
       "\n",
       "                 ConfigFile               Date DeviceType GameIdx  \\\n",
       "0   config/experiment1.json  20180828_08:31:30    Desktop       1   \n",
       "1   config/experiment2.json  20180828_14:24:07    Desktop       1   \n",
       "2   config/experiment1.json  20180828_10:20:20     Mobile       2   \n",
       "3   config/experiment1.json  20180828_10:21:55     Mobile       2   \n",
       "4   config/experiment2.json  20180828_14:08:56    Desktop       1   \n",
       "5   config/experiment2.json  20180828_14:19:14    Desktop       1   \n",
       "6   config/experiment1.json  20180827_23:12:38    Desktop       1   \n",
       "7   config/experiment2.json  20180828_14:16:44    Desktop       1   \n",
       "8   config/experiment2.json  20180828_14:21:02     Mobile       1   \n",
       "9   config/experiment1.json  20180827_23:17:35    Desktop       1   \n",
       "10  config/experiment2.json  20180828_14:09:50    Desktop       1   \n",
       "11  config/experiment2.json  20180828_13:51:49    Desktop       3   \n",
       "12  config/experiment2.json  20180828_14:14:19    Desktop       2   \n",
       "13  config/experiment2.json  20180828_14:26:24    Desktop       1   \n",
       "14  config/experiment2.json  20180828_14:14:35     Mobile       2   \n",
       "15  config/experiment2.json  20180828_14:12:28    Desktop       1   \n",
       "16  config/experiment1.json  20180827_23:11:00    Desktop       1   \n",
       "17  config/experiment2.json  20180828_14:09:52     Mobile       1   \n",
       "18  config/experiment1.json  20180828_10:22:08     Mobile       2   \n",
       "19  config/experiment2.json  20180828_14:23:28    Desktop       1   \n",
       "20  config/experiment2.json  20180828_14:07:53     Mobile       1   \n",
       "21  config/experiment2.json  20180828_14:25:21     Mobile       1   \n",
       "22  config/experiment2.json  20180828_14:12:27    Desktop       1   \n",
       "23  config/experiment1.json  20180828_08:29:07    Desktop       1   \n",
       "24  config/experiment2.json  20180828_14:17:46     Mobile       1   \n",
       "\n",
       "       GameVariant                           ModelFile  \n",
       "0   no_feedback_v1    model_params_alessandro_0001.csv  \n",
       "1   no_feedback_v2          model_params_sara_0001.csv  \n",
       "2   no_feedback_v1         model_params_bhanu_0002.csv  \n",
       "3   no_feedback_v1  model_params_paulpfeiffer_0002.csv  \n",
       "4   no_feedback_v2        model_params_samuel_0001.csv  \n",
       "5   no_feedback_v2            model_params_lr_0001.csv  \n",
       "6   no_feedback_v1  model_params_paulpfeiffer_0001.csv  \n",
       "7   no_feedback_v2          model_params_chen_0001.csv  \n",
       "8   no_feedback_v2          model_params_alex_0001.csv  \n",
       "9   no_feedback_v1         model_params_bhanu_0001.csv  \n",
       "10  no_feedback_v2   model_params_ninjaturtle_0001.csv  \n",
       "11  no_feedback_v2  model_params_paulpfeiffer_0003.csv  \n",
       "12  no_feedback_v2      model_params_poornima_0002.csv  \n",
       "13  no_feedback_v2        model_params_nikita_0001.csv  \n",
       "14  no_feedback_v2   model_params_ninjaturtle_0002.csv  \n",
       "15  no_feedback_v2         model_params_andre_0001.csv  \n",
       "16  no_feedback_v1       model_params_amadeus_0001.csv  \n",
       "17  no_feedback_v2         model_params_laura_0001.csv  \n",
       "18  no_feedback_v1       model_params_amadeus_0002.csv  \n",
       "19  no_feedback_v2            model_params_sr_0001.csv  \n",
       "20  no_feedback_v2      model_params_poornima_0001.csv  \n",
       "21  no_feedback_v2      model_params_brianlau_0001.csv  \n",
       "22  no_feedback_v2      model_params_monzilur_0001.csv  \n",
       "23  no_feedback_v1       model_params_vincent_0001.csv  \n",
       "24  no_feedback_v2      model_params_vassilis_0001.csv  "
      ]
     },
     "execution_count": 41,
     "metadata": {},
     "output_type": "execute_result"
    }
   ],
   "source": [
    "metadata"
   ]
  },
  {
   "cell_type": "markdown",
   "metadata": {},
   "source": [
    "In:\n",
    "* agent, history length, cross validation\n",
    "\n",
    "Out: \n",
    "* parameters, classification error"
   ]
  },
  {
   "cell_type": "code",
   "execution_count": 5,
   "metadata": {
    "collapsed": true
   },
   "outputs": [],
   "source": [
    "def get_model_params(expdataframe, weight_prior, optimizer):\n",
    "    choices = pd.DataFrame.from_csv(data_dir + expdataframe['ChoicesFile'])['AgentChoice'].values\n",
    "    weights = optimizer(weight_prior, choices)\n",
    "    return weights"
   ]
  },
  {
   "cell_type": "markdown",
   "metadata": {},
   "source": [
    "# Bias and serial correlations"
   ]
  },
  {
   "cell_type": "code",
   "execution_count": 6,
   "metadata": {
    "collapsed": true
   },
   "outputs": [],
   "source": [
    "history_length = 10\n",
    "weight_prior = np.zeros((history_length+1))\n"
   ]
  },
  {
   "cell_type": "code",
   "execution_count": 7,
   "metadata": {},
   "outputs": [],
   "source": [
    "model_params=[]\n",
    "for i in range(len(metadata)):\n",
    "    model_params = model_params + [get_model_params(metadata.iloc[i], weight_prior, linear_choice_history_dependent_model)]\n",
    "    "
   ]
  },
  {
   "cell_type": "code",
   "execution_count": 8,
   "metadata": {
    "collapsed": true
   },
   "outputs": [],
   "source": [
    "mean_abs_weights = np.mean(np.abs(np.array(model_params)), axis=0)"
   ]
  },
  {
   "cell_type": "markdown",
   "metadata": {},
   "source": [
    "### Plot"
   ]
  },
  {
   "cell_type": "markdown",
   "metadata": {},
   "source": [
    "### Show biases"
   ]
  },
  {
   "cell_type": "code",
   "execution_count": 9,
   "metadata": {
    "collapsed": true
   },
   "outputs": [],
   "source": [
    "import matplotlib.pyplot as plt"
   ]
  },
  {
   "cell_type": "code",
   "execution_count": 10,
   "metadata": {},
   "outputs": [
    {
     "data": {
      "text/plain": [
       "(-0.6, 0.6)"
      ]
     },
     "execution_count": 10,
     "metadata": {},
     "output_type": "execute_result"
    },
    {
     "data": {
      "image/png": "[encoded data removed]",
      "text/plain": [
       "<matplotlib.figure.Figure at 0x7efc7ae5a630>"
      ]
     },
     "metadata": {},
     "output_type": "display_data"
    }
   ],
   "source": [
    "fig = plt.figure()\n",
    "ax_bias = fig.add_subplot(121)\n",
    "ax_weights = fig.add_subplot(122)\n",
    "\n",
    "for model_param in model_params:\n",
    "    ax_bias.scatter(1,model_param[0])\n",
    "    ax_weights.plot(list(range(len(model_param[1:]))), model_param[-1:0:-1])\n",
    "    \n",
    "ax_bias.set_ylim(-0.6,0.6)\n"
   ]
  },
  {
   "cell_type": "code",
   "execution_count": 11,
   "metadata": {},
   "outputs": [
    {
     "data": {
      "image/png": "[encoded data removed]",
      "text/plain": [
       "<matplotlib.figure.Figure at 0x7efc7790b4e0>"
      ]
     },
     "metadata": {},
     "output_type": "display_data"
    }
   ],
   "source": [
    "fig = plt.figure()\n",
    "ax_bias = fig.add_subplot(121)\n",
    "ax_weights = fig.add_subplot(122)\n",
    "\n",
    "for model_param in model_params:\n",
    "    ax_bias.scatter(1,model_param[0])\n",
    "    ax_weights.plot(list(range(len(model_param[1:]))), np.abs(model_param[-1:0:-1]), color='k', alpha=0.2)\n",
    "    \n",
    "ax_weights.plot(list(range(len(model_param[1:]))), mean_abs_weights[-1:0:-1], color='k')    \n",
    "\n",
    "ax_bias.set_ylim(-0.6,0.6)\n",
    "ax_bias.set_ylabel('b')\n",
    "ax_weights.set_xlabel('lag')\n",
    "ax_weights.set_ylabel('|w|')\n",
    "\n",
    "plt.tight_layout()"
   ]
  },
  {
   "cell_type": "markdown",
   "metadata": {},
   "source": [
    "* add probability of a 1 on the left figure"
   ]
  },
  {
   "cell_type": "code",
   "execution_count": 12,
   "metadata": {
    "collapsed": true
   },
   "outputs": [],
   "source": [
    "from training_data import sigmoid"
   ]
  },
  {
   "cell_type": "markdown",
   "metadata": {},
   "source": [
    "### Classification error"
   ]
  },
  {
   "cell_type": "code",
   "execution_count": 13,
   "metadata": {
    "collapsed": true
   },
   "outputs": [],
   "source": [
    "def get_classification_error(experiment, history_length):\n",
    "    choices = pd.DataFrame.from_csv(data_dir + experiment['ChoicesFile'])['AgentChoice'].values\n",
    "    x, y = separate_choices_sequences_into_history_and_choice(choices, history_length)\n",
    "    number_of_data_points = x.shape[1]\n",
    "    validation_chunk_size = int(validation_ratio*number_of_data_points)\n",
    "    all_indxs = np.arange(0, number_of_data_points)\n",
    "    weight_prior = np.zeros((history_length+1,))\n",
    "\n",
    "    classification_error=[]\n",
    "    for i in np.arange(0, int(number_of_data_points/validation_chunk_size)):\n",
    "        test_idxs = np.arange(i*validation_chunk_size, (i+1)*validation_chunk_size)\n",
    "        training_idxs = np.array(list(set(all_indxs)-set(test_idxs)))\n",
    "        model_params = momentum_gradient_descent(weight_prior, x[:,training_idxs], y[training_idxs])\n",
    "        predictions = [maximum_a_posteriori(model_params,x_i) for x_i in np.transpose(x[:, test_idxs])]\n",
    "        classification_error.append(np.sum(predictions!=y[test_idxs])/validation_chunk_size)\n",
    "    return classification_error\n",
    "    "
   ]
  },
  {
   "cell_type": "markdown",
   "metadata": {},
   "source": [
    "#### Cross validation"
   ]
  },
  {
   "cell_type": "code",
   "execution_count": 36,
   "metadata": {
    "collapsed": true
   },
   "outputs": [],
   "source": [
    "validation_ratio = 0.2\n",
    "history_length = 5"
   ]
  },
  {
   "cell_type": "code",
   "execution_count": 37,
   "metadata": {},
   "outputs": [],
   "source": [
    "classification_errors=[]\n",
    "for i in range(len(metadata)):\n",
    "    classification_errors.append(get_classification_error(metadata.iloc[i], history_length))\n",
    "    "
   ]
  },
  {
   "cell_type": "code",
   "execution_count": 38,
   "metadata": {},
   "outputs": [],
   "source": [
    "mean_class_errors = np.mean(np.array(classification_errors), axis=1)"
   ]
  },
  {
   "cell_type": "code",
   "execution_count": 39,
   "metadata": {},
   "outputs": [
    {
     "data": {
      "text/plain": [
       "0.3751836734693878"
      ]
     },
     "execution_count": 39,
     "metadata": {},
     "output_type": "execute_result"
    }
   ],
   "source": [
    "np.mean(mean_class_errors)"
   ]
  },
  {
   "cell_type": "markdown",
   "metadata": {},
   "source": [
    "#### Ranking"
   ]
  },
  {
   "cell_type": "code",
   "execution_count": 40,
   "metadata": {},
   "outputs": [
    {
     "data": {
      "text/plain": [
       "[('alessandro', 0.4612244897959184),\n",
       " ('sara', 0.32244897959183672),\n",
       " ('bhanu', 0.42857142857142855),\n",
       " ('paulpfeiffer', 0.34285714285714286),\n",
       " ('samuel', 0.47346938775510206),\n",
       " ('lr', 0.45306122448979591),\n",
       " ('paulpfeiffer', 0.43673469387755104),\n",
       " ('chen', 0.34285714285714286),\n",
       " ('alex', 0.33469387755102042),\n",
       " ('bhanu', 0.44489795918367347),\n",
       " ('ninjaturtle', 0.45306122448979591),\n",
       " ('paulpfeiffer', 0.31428571428571422),\n",
       " ('poornima', 0.2857142857142857),\n",
       " ('nikita', 0.34693877551020408),\n",
       " ('ninjaturtle', 0.49795918367346942),\n",
       " ('andre', 0.49387755102040815),\n",
       " ('amadeus', 0.32244897959183672),\n",
       " ('laura', 0.25714285714285717),\n",
       " ('amadeus', 0.28163265306122454),\n",
       " ('sr', 0.33061224489795921),\n",
       " ('poornima', 0.28979591836734692),\n",
       " ('brianlau', 0.3836734693877551),\n",
       " ('monzilur', 0.34693877551020413),\n",
       " ('vincent', 0.42040816326530611),\n",
       " ('vassilis', 0.31428571428571433)]"
      ]
     },
     "execution_count": 40,
     "metadata": {},
     "output_type": "execute_result"
    }
   ],
   "source": [
    "list(zip(metadata['AgentName'].values, mean_class_errors))"
   ]
  },
  {
   "cell_type": "markdown",
   "metadata": {},
   "source": [
    "non linear features\n",
    "Laplace"
   ]
  },
  {
   "cell_type": "markdown",
   "metadata": {},
   "source": [
    "## Blop"
   ]
  },
  {
   "cell_type": "code",
   "execution_count": 19,
   "metadata": {
    "collapsed": true
   },
   "outputs": [],
   "source": [
    "def get_pattern_counts(choices, history_length):\n",
    "    words = [choices[np.arange(i+history_length,i-1,-1)] for i in range(history_length-1,len(choices)-history_length)]\n",
    "    words = list(map(lambda array: \".\".join(map(str, array)), words))\n",
    "    return Counter(words)"
   ]
  },
  {
   "cell_type": "code",
   "execution_count": 20,
   "metadata": {
    "collapsed": true
   },
   "outputs": [],
   "source": [
    "def get_lower_bound_on_cross_entropy(choices, history_length):\n",
    "    pattern_counter = get_pattern_counts(choices, history_length)\n",
    "    probs = np.array(list(pattern_counter.values()))/float(sum(pattern_counter.values()))\n",
    "    return -np.sum([prob*np.log2(prob) for prob in probs])"
   ]
  },
  {
   "cell_type": "markdown",
   "metadata": {},
   "source": [
    "# Compare entropy of different agents"
   ]
  },
  {
   "cell_type": "code",
   "execution_count": 21,
   "metadata": {
    "collapsed": true
   },
   "outputs": [],
   "source": [
    "number_of_choices = 250\n",
    "history_length = 1"
   ]
  },
  {
   "cell_type": "code",
   "execution_count": 22,
   "metadata": {
    "collapsed": true
   },
   "outputs": [],
   "source": [
    "choices_with_serial_correlations = generate_stationary_agent_choices(number_of_choices, np.array([0, -1]), np.array([-1]))"
   ]
  },
  {
   "cell_type": "code",
   "execution_count": 23,
   "metadata": {
    "collapsed": true
   },
   "outputs": [],
   "source": [
    "choices_random = generate_stationary_agent_choices(number_of_choices, np.array([0]), np.array([-1]))"
   ]
  },
  {
   "cell_type": "code",
   "execution_count": 24,
   "metadata": {},
   "outputs": [
    {
     "data": {
      "text/plain": [
       "1.7336299577246317"
      ]
     },
     "execution_count": 24,
     "metadata": {},
     "output_type": "execute_result"
    }
   ],
   "source": [
    "get_lower_bound_on_cross_entropy(choices_with_serial_correlations, history_length)"
   ]
  },
  {
   "cell_type": "code",
   "execution_count": 25,
   "metadata": {},
   "outputs": [
    {
     "data": {
      "text/plain": [
       "1.9756707674050658"
      ]
     },
     "execution_count": 25,
     "metadata": {},
     "output_type": "execute_result"
    }
   ],
   "source": [
    "get_lower_bound_on_cross_entropy(choices_random, history_length)"
   ]
  },
  {
   "cell_type": "code",
   "execution_count": 26,
   "metadata": {
    "collapsed": true
   },
   "outputs": [],
   "source": [
    "import pandas as pd"
   ]
  },
  {
   "cell_type": "code",
   "execution_count": 27,
   "metadata": {
    "collapsed": true
   },
   "outputs": [],
   "source": [
    "entropies = []\n",
    "for idx, exp in metadata.iterrows():\n",
    "    choices = np.array(pd.DataFrame.from_csv(data_dir+exp['ChoicesFile'])['AgentChoice'].values)\n",
    "    entropies.append(get_lower_bound_on_cross_entropy(choices, 1))"
   ]
  },
  {
   "cell_type": "code",
   "execution_count": 28,
   "metadata": {
    "collapsed": true
   },
   "outputs": [],
   "source": [
    "entropy_collector = []\n",
    "for history_length in range(1, 4):\n",
    "    entropies = []\n",
    "    for idx, exp in metadata.iterrows():\n",
    "        choices = np.array(pd.DataFrame.from_csv(data_dir+exp['ChoicesFile'])['AgentChoice'].values)\n",
    "        entropies.append(get_lower_bound_on_cross_entropy(choices, history_length))\n",
    "    entropy_collector.append(entropies)"
   ]
  },
  {
   "cell_type": "code",
   "execution_count": 29,
   "metadata": {
    "collapsed": true
   },
   "outputs": [],
   "source": [
    "import matplotlib.pyplot as plt"
   ]
  },
  {
   "cell_type": "code",
   "execution_count": 30,
   "metadata": {},
   "outputs": [
    {
     "data": {
      "text/plain": [
       "(0, 4)"
      ]
     },
     "execution_count": 30,
     "metadata": {},
     "output_type": "execute_result"
    },
    {
     "data": {
      "image/png": "[encoded data removed]",
      "text/plain": [
       "<matplotlib.figure.Figure at 0x7efc7774bc50>"
      ]
     },
     "metadata": {},
     "output_type": "display_data"
    }
   ],
   "source": [
    "for idx, entropies in enumerate(entropy_collector):\n",
    "    plt.scatter((idx+1)*np.ones((len(entropies),)), entropies)\n",
    "    plt.scatter(idx+1, idx+2, color='k')\n",
    "\n",
    "plt.xlabel('History length')\n",
    "plt.ylabel('#Bits')\n",
    "plt.ylim(0, 4)"
   ]
  },
  {
   "cell_type": "code",
   "execution_count": null,
   "metadata": {
    "collapsed": true
   },
   "outputs": [],
   "source": []
  }
 ],
 "metadata": {
  "kernelspec": {
   "display_name": "Python 3",
   "language": "python",
   "name": "python3"
  },
  "language_info": {
   "codemirror_mode": {
    "name": "ipython",
    "version": 3
   },
   "file_extension": ".py",
   "mimetype": "text/x-python",
   "name": "python",
   "nbconvert_exporter": "python",
   "pygments_lexer": "ipython3",
   "version": "3.6.2"
  }
 },
 "nbformat": 4,
 "nbformat_minor": 2
}
