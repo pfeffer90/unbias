{
 "cells": [
  {
   "cell_type": "markdown",
   "metadata": {},
   "source": [
    "# Penny matching\n",
    "\n",
    "#### Your challenge\n",
    "Beat the oráculo in penny matching.\n",
    "\n",
    "Penny matching is a simple game, where both players have to choose either head or tail. You win if the oráculo and your choice differ and loose if they are the same.\n",
    "\n",
    "#### Instructions\n",
    "* click on the cell below and hit Ctrl-Enter to execute it\n",
    "* an interface is displayed to start the experiment\n",
    "* fill in your name, hit enter and beat the oráculo"
   ]
  },
  {
   "cell_type": "code",
   "execution_count": 1,
   "metadata": {},
   "outputs": [
    {
     "data": {
      "application/vnd.jupyter.widget-view+json": {
       "model_id": "3aa23e75648b4621810b57e9c4115a32",
       "version_major": 2,
       "version_minor": 0
      },
      "text/plain": [
       "Text(value='', description='Name:', placeholder='Your name? <johnsmith>')"
      ]
     },
     "metadata": {},
     "output_type": "display_data"
    }
   ],
   "source": [
    "from game import experiment\n",
    "\n",
    "experiment('../experiments/config/experiment4.json')"
   ]
  }
 ],
 "metadata": {
  "kernelspec": {
   "display_name": "Python 3",
   "language": "python",
   "name": "python3"
  },
  "language_info": {
   "codemirror_mode": {
    "name": "ipython",
    "version": 3
   },
   "file_extension": ".py",
   "mimetype": "text/x-python",
   "name": "python",
   "nbconvert_exporter": "python",
   "pygments_lexer": "ipython3",
   "version": "3.6.2"
  },
  "widgets": {
   "state": {
    "24448b23fe28460987893c652863cf96": {
     "views": [
      {
       "cell_index": 1
      }
     ]
    }
   },
   "version": "1.2.0"
  }
 },
 "nbformat": 4,
 "nbformat_minor": 2
}
