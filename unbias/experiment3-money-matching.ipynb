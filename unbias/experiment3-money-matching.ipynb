{
 "cells": [
  {
   "cell_type": "markdown",
   "metadata": {},
   "source": [
    "# Penny matching\n",
    "\n",
    "#### Your challenge\n",
    "Beat the oráculo in penny matching.\n",
    "\n",
    "Penny matching is a simple game, where both players have to choose either Heads or Tails. You win if the oráculo and your choices differ and lose if the oráculo predits your choice.\n",
    "\n",
    "#### Instructions\n",
    "* click on the cell below and hit Ctrl-Enter to execute it\n",
    "* an interface is displayed to start the experiment\n",
    "* fill in your name, hit enter and beat the oráculo"
   ]
  },
  {
   "cell_type": "code",
   "execution_count": 1,
   "metadata": {},
   "outputs": [
    {
     "data": {
      "application/vnd.jupyter.widget-view+json": {
       "model_id": "",
       "version_major": 2,
       "version_minor": 0
      },
      "text/plain": [
       "Text(value='', description='Name:', placeholder='Your name? <johnsmith>')"
      ]
     },
     "metadata": {},
     "output_type": "display_data"
    },
    {
     "data": {
      "application/vnd.jupyter.widget-view+json": {
       "model_id": "",
       "version_major": 2,
       "version_minor": 0
      },
      "text/plain": [
       "HBox(children=(Button(description='Mobile', style=ButtonStyle()), Button(description='Desktop', style=ButtonSt…"
      ]
     },
     "metadata": {},
     "output_type": "display_data"
    },
    {
     "data": {
      "application/vnd.jupyter.widget-view+json": {
       "model_id": "",
       "version_major": 2,
       "version_minor": 0
      },
      "text/plain": [
       "VBox(children=(Output(layout=Layout(border='1px solid black')), HBox(children=(Button(description='Heads', sty…"
      ]
     },
     "metadata": {},
     "output_type": "display_data"
    },
    {
     "data": {
      "application/vnd.jupyter.widget-view+json": {
       "model_id": "a5872bef554d44d6866adcdbed6aeed6",
       "version_major": 2,
       "version_minor": 0
      },
      "text/plain": [
       "Label(value='Thank you for participating :)')"
      ]
     },
     "metadata": {},
     "output_type": "display_data"
    },
    {
     "data": {
      "application/vnd.jupyter.widget-view+json": {
       "model_id": "b3fa185854dd44dfad0ac5ee5ed3245b",
       "version_major": 2,
       "version_minor": 0
      },
      "text/plain": [
       "Label(value='p final score: 6   Oraculo final score: 4')"
      ]
     },
     "metadata": {},
     "output_type": "display_data"
    }
   ],
   "source": [
    "from game import experiment\n",
    "\n",
    "experiment('../experiments/config/experiment4.json')"
   ]
  }
 ],
 "metadata": {
  "kernelspec": {
   "display_name": "Python 3",
   "language": "python",
   "name": "python3"
  },
  "language_info": {
   "codemirror_mode": {
    "name": "ipython",
    "version": 3
   },
   "file_extension": ".py",
   "mimetype": "text/x-python",
   "name": "python",
   "nbconvert_exporter": "python",
   "pygments_lexer": "ipython3",
   "version": "3.6.2"
  },
  "widgets": {
   "state": {
    "24448b23fe28460987893c652863cf96": {
     "views": [
      {
       "cell_index": 1
      }
     ]
    }
   },
   "version": "1.2.0"
  }
 },
 "nbformat": 4,
 "nbformat_minor": 2
}
