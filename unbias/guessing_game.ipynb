{
 "cells": [
  {
   "cell_type": "code",
   "execution_count": 1,
   "metadata": {},
   "outputs": [
    {
     "name": "stderr",
     "output_type": "stream",
     "text": [
      "/usr/local/lib/python2.7/dist-packages/pandas/_libs/__init__.py:4: RuntimeWarning: numpy.dtype size changed, may indicate binary incompatibility. Expected 96, got 88\n",
      "  from .tslib import iNaT, NaT, Timestamp, Timedelta, OutOfBoundsDatetime\n",
      "/usr/local/lib/python2.7/dist-packages/pandas/__init__.py:26: RuntimeWarning: numpy.dtype size changed, may indicate binary incompatibility. Expected 96, got 88\n",
      "  from pandas._libs import (hashtable as _hashtable,\n",
      "/usr/local/lib/python2.7/dist-packages/pandas/core/dtypes/common.py:6: RuntimeWarning: numpy.dtype size changed, may indicate binary incompatibility. Expected 96, got 88\n",
      "  from pandas._libs import algos, lib\n",
      "/usr/local/lib/python2.7/dist-packages/pandas/core/util/hashing.py:7: RuntimeWarning: numpy.dtype size changed, may indicate binary incompatibility. Expected 96, got 88\n",
      "  from pandas._libs import hashing, tslib\n",
      "/usr/local/lib/python2.7/dist-packages/pandas/core/indexes/base.py:7: RuntimeWarning: numpy.dtype size changed, may indicate binary incompatibility. Expected 96, got 88\n",
      "  from pandas._libs import (lib, index as libindex, tslib as libts,\n",
      "/usr/local/lib/python2.7/dist-packages/pandas/tseries/offsets.py:21: RuntimeWarning: numpy.dtype size changed, may indicate binary incompatibility. Expected 96, got 88\n",
      "  import pandas._libs.tslibs.offsets as liboffsets\n",
      "/usr/local/lib/python2.7/dist-packages/pandas/core/ops.py:16: RuntimeWarning: numpy.dtype size changed, may indicate binary incompatibility. Expected 96, got 88\n",
      "  from pandas._libs import algos as libalgos, ops as libops\n",
      "/usr/local/lib/python2.7/dist-packages/pandas/core/indexes/interval.py:32: RuntimeWarning: numpy.dtype size changed, may indicate binary incompatibility. Expected 96, got 88\n",
      "  from pandas._libs.interval import (\n",
      "/usr/local/lib/python2.7/dist-packages/pandas/core/internals.py:14: RuntimeWarning: numpy.dtype size changed, may indicate binary incompatibility. Expected 96, got 88\n",
      "  from pandas._libs import internals as libinternals\n",
      "/usr/local/lib/python2.7/dist-packages/pandas/core/sparse/array.py:33: RuntimeWarning: numpy.dtype size changed, may indicate binary incompatibility. Expected 96, got 88\n",
      "  import pandas._libs.sparse as splib\n",
      "/usr/local/lib/python2.7/dist-packages/pandas/core/window.py:36: RuntimeWarning: numpy.dtype size changed, may indicate binary incompatibility. Expected 96, got 88\n",
      "  import pandas._libs.window as _window\n",
      "/usr/local/lib/python2.7/dist-packages/pandas/core/groupby/groupby.py:68: RuntimeWarning: numpy.dtype size changed, may indicate binary incompatibility. Expected 96, got 88\n",
      "  from pandas._libs import (lib, reduction,\n",
      "/usr/local/lib/python2.7/dist-packages/pandas/core/reshape/reshape.py:30: RuntimeWarning: numpy.dtype size changed, may indicate binary incompatibility. Expected 96, got 88\n",
      "  from pandas._libs import algos as _algos, reshape as _reshape\n",
      "/usr/local/lib/python2.7/dist-packages/pandas/io/parsers.py:45: RuntimeWarning: numpy.dtype size changed, may indicate binary incompatibility. Expected 96, got 88\n",
      "  import pandas._libs.parsers as parsers\n",
      "/usr/local/lib/python2.7/dist-packages/pandas/io/pytables.py:50: RuntimeWarning: numpy.dtype size changed, may indicate binary incompatibility. Expected 96, got 88\n",
      "  from pandas._libs import algos, lib, writers as libwriters\n"
     ]
    }
   ],
   "source": [
    "from game import genius"
   ]
  },
  {
   "cell_type": "code",
   "execution_count": 2,
<<<<<<< HEAD
   "metadata": {
    "scrolled": true
   },
=======
   "metadata": {},
>>>>>>> separated interface code from game
   "outputs": [
    {
     "data": {
      "application/vnd.jupyter.widget-view+json": {
<<<<<<< HEAD
       "model_id": "7896040603af443c8aeb9129ad86cf95",
=======
       "model_id": "a68c10c4ed894ca5aaac4cc02ce83ab8",
>>>>>>> separated interface code from game
       "version_major": 2,
       "version_minor": 0
      },
      "text/plain": [
<<<<<<< HEAD
       "Box(children=(Button(description=u'-1', style=ButtonStyle()), Button(description=u'1', style=ButtonStyle())))"
=======
       "Text(value=u'', description=u'Name:', placeholder=u\"What's your name?\")"
>>>>>>> separated interface code from game
      ]
     },
     "metadata": {},
     "output_type": "display_data"
    },
    {
<<<<<<< HEAD
     "name": "stdout",
     "output_type": "stream",
     "text": [
      "Your choice: -1  Our choice: -1\n",
      "Your choice: 1  Our choice: 1\n",
      "Your choice: -1  Our choice: -1\n",
      "Your choice: 1  Our choice: 1\n",
      "Your choice: -1  Our choice: -1\n",
      "Your choice: -1  Our choice: -1\n",
      "Your choice: -1  Our choice: 1\n",
      "Your choice: -1  Our choice: 1\n",
      "Your choice: 1  Our choice: -1\n",
      "Your choice: 1  Our choice: 1\n",
      "Your choice: 1  Our choice: -1\n",
      "Your choice: 1  Our choice: 1\n",
      "Your choice: 1  Our choice: 1\n",
      "Your choice: -1  Our choice: 1\n",
      "Your choice: -1  Our choice: -1\n",
      "Your choice: -1  Our choice: -1\n",
      "Your choice: 1  Our choice: -1\n",
      "Your choice: 1  Our choice: 1\n",
      "Your choice: 1  Our choice: 1\n",
      "Your choice: -1  Our choice: 1\n",
      "Your choice: -1  Our choice: 1\n",
      "Your choice: 1  Our choice: -1\n",
      "Your choice: 1  Our choice: 1\n",
      "Your choice: 1  Our choice: 1\n",
      "Your choice: 1  Our choice: -1\n",
      "Your choice: -1  Our choice: -1\n",
      "Your choice: -1  Our choice: -1\n",
      "Your choice: -1  Our choice: -1\n",
      "Your choice: 1  Our choice: -1\n",
      "Your choice: 1  Our choice: 1\n",
      "Your choice: 1  Our choice: 1\n",
      "Your choice: -1  Our choice: -1\n",
      "Your choice: -1  Our choice: -1\n",
      "Your choice: -1  Our choice: 1\n",
      "Your choice: -1  Our choice: 1\n",
      "Your choice: -1  Our choice: 1\n",
      "Your choice: 1  Our choice: 1\n",
      "Your choice: 1  Our choice: 1\n",
      "Your choice: 1  Our choice: 1\n",
      "Your choice: -1  Our choice: -1\n",
      "Your choice: -1  Our choice: -1\n",
      "Your choice: 1  Our choice: -1\n",
      "Your choice: 1  Our choice: 1\n",
      "Your choice: 1  Our choice: 1\n",
      "Your choice: 1  Our choice: 1\n",
      "Your choice: 1  Our choice: 1\n",
      "Your choice: 1  Our choice: 1\n",
      "Your choice: 1  Our choice: 1\n",
      "Your choice: -1  Our choice: -1\n",
      "Your choice: 1  Our choice: -1\n",
      "You did it :)\n",
      "Your score: 16   Shannons score: 34\n"
     ]
    }
   ],
   "source": [
    "genius(50,10)"
=======
     "data": {
      "application/vnd.jupyter.widget-view+json": {
       "model_id": "900adaf89edd458db37bc560fc7573f2",
       "version_major": 2,
       "version_minor": 0
      },
      "text/plain": [
       "Qm94KGNoaWxkcmVuPShCdXR0b24oZGVzY3JpcHRpb249dScwJywgc3R5bGU9QnV0dG9uU3R5bGUoKSksIEJ1dHRvbihkZXNjcmlwdGlvbj11JzEnLCBzdHlsZT1CdXR0b25TdHlsZSgpKSwgSW7igKY=\n"
      ]
     },
     "metadata": {},
     "output_type": "display_data"
    }
   ],
   "source": [
    "genius()"
>>>>>>> separated interface code from game
   ]
  },
  {
   "cell_type": "code",
   "execution_count": null,
   "metadata": {},
   "outputs": [],
   "source": []
  },
  {
   "cell_type": "code",
   "execution_count": null,
   "metadata": {},
   "outputs": [],
   "source": []
  },
  {
   "cell_type": "code",
   "execution_count": null,
   "metadata": {},
   "outputs": [],
   "source": []
  }
 ],
 "metadata": {
  "kernelspec": {
   "display_name": "Python 2",
   "language": "python",
   "name": "python2"
  },
  "language_info": {
   "codemirror_mode": {
    "name": "ipython",
    "version": 2
   },
   "file_extension": ".py",
   "mimetype": "text/x-python",
   "name": "python",
   "nbconvert_exporter": "python",
   "pygments_lexer": "ipython2",
<<<<<<< HEAD
   "version": "2.7.15"
=======
   "version": "2.7.15rc1"
  },
  "widgets": {
   "state": {
    "72f291af0bba4b37bf17ff7fc9725acd": {
     "views": [
      {
       "cell_index": 1
      }
     ]
    }
   },
   "version": "1.2.0"
>>>>>>> separated interface code from game
  }
 },
 "nbformat": 4,
 "nbformat_minor": 2
}
