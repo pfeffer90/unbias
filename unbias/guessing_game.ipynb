{
 "cells": [
  {
   "cell_type": "code",
   "execution_count": 1,
   "metadata": {
    "collapsed": true
   },
   "outputs": [],
   "source": [
    "from game import genius"
   ]
  },
  {
   "cell_type": "code",
   "execution_count": 2,
   "metadata": {
    "scrolled": true
   },
   "outputs": [
    {
     "data": {
      "application/vnd.jupyter.widget-view+json": {
       "model_id": "7896040603af443c8aeb9129ad86cf95",
       "version_major": 2,
       "version_minor": 0
      },
      "text/plain": [
       "Box(children=(Button(description=u'-1', style=ButtonStyle()), Button(description=u'1', style=ButtonStyle())))"
      ]
     },
     "metadata": {},
     "output_type": "display_data"
    },
    {
     "name": "stdout",
     "output_type": "stream",
     "text": [
      "Your choice: -1  Our choice: -1\n",
      "Your choice: 1  Our choice: 1\n",
      "Your choice: -1  Our choice: -1\n",
      "Your choice: 1  Our choice: 1\n",
      "Your choice: -1  Our choice: -1\n",
      "Your choice: -1  Our choice: -1\n",
      "Your choice: -1  Our choice: 1\n",
      "Your choice: -1  Our choice: 1\n",
      "Your choice: 1  Our choice: -1\n",
      "Your choice: 1  Our choice: 1\n",
      "Your choice: 1  Our choice: -1\n",
      "Your choice: 1  Our choice: 1\n",
      "Your choice: 1  Our choice: 1\n",
      "Your choice: -1  Our choice: 1\n",
      "Your choice: -1  Our choice: -1\n",
      "Your choice: -1  Our choice: -1\n",
      "Your choice: 1  Our choice: -1\n",
      "Your choice: 1  Our choice: 1\n",
      "Your choice: 1  Our choice: 1\n",
      "Your choice: -1  Our choice: 1\n",
      "Your choice: -1  Our choice: 1\n",
      "Your choice: 1  Our choice: -1\n",
      "Your choice: 1  Our choice: 1\n",
      "Your choice: 1  Our choice: 1\n",
      "Your choice: 1  Our choice: -1\n",
      "Your choice: -1  Our choice: -1\n",
      "Your choice: -1  Our choice: -1\n",
      "Your choice: -1  Our choice: -1\n",
      "Your choice: 1  Our choice: -1\n",
      "Your choice: 1  Our choice: 1\n",
      "Your choice: 1  Our choice: 1\n",
      "Your choice: -1  Our choice: -1\n",
      "Your choice: -1  Our choice: -1\n",
      "Your choice: -1  Our choice: 1\n",
      "Your choice: -1  Our choice: 1\n",
      "Your choice: -1  Our choice: 1\n",
      "Your choice: 1  Our choice: 1\n",
      "Your choice: 1  Our choice: 1\n",
      "Your choice: 1  Our choice: 1\n",
      "Your choice: -1  Our choice: -1\n",
      "Your choice: -1  Our choice: -1\n",
      "Your choice: 1  Our choice: -1\n",
      "Your choice: 1  Our choice: 1\n",
      "Your choice: 1  Our choice: 1\n",
      "Your choice: 1  Our choice: 1\n",
      "Your choice: 1  Our choice: 1\n",
      "Your choice: 1  Our choice: 1\n",
      "Your choice: 1  Our choice: 1\n",
      "Your choice: -1  Our choice: -1\n",
      "Your choice: 1  Our choice: -1\n",
      "You did it :)\n",
      "Your score: 16   Shannons score: 34\n"
     ]
    }
   ],
   "source": [
    "genius(50,10)"
   ]
  },
  {
   "cell_type": "code",
   "execution_count": null,
   "metadata": {
    "collapsed": true
   },
   "outputs": [],
   "source": []
  },
  {
   "cell_type": "code",
   "execution_count": null,
   "metadata": {
    "collapsed": true
   },
   "outputs": [],
   "source": []
  }
 ],
 "metadata": {
  "kernelspec": {
   "display_name": "Python 2",
   "language": "python",
   "name": "python2"
  },
  "language_info": {
   "codemirror_mode": {
    "name": "ipython",
    "version": 2
   },
   "file_extension": ".py",
   "mimetype": "text/x-python",
   "name": "python",
   "nbconvert_exporter": "python",
   "pygments_lexer": "ipython2",
   "version": "2.7.15"
  }
 },
 "nbformat": 4,
 "nbformat_minor": 2
}
