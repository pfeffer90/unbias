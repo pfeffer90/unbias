{
 "cells": [
  {
   "cell_type": "markdown",
   "metadata": {},
   "source": [
    "# Get overview of all games play"
   ]
  },
  {
   "cell_type": "code",
   "execution_count": 1,
   "metadata": {
    "collapsed": true
   },
   "outputs": [],
   "source": [
    "import pandas as pd"
   ]
  },
  {
   "cell_type": "code",
   "execution_count": 2,
   "metadata": {
    "collapsed": true
   },
   "outputs": [],
   "source": [
    "game_data = pd.DataFrame.from_csv('../data/gamedata.csv')"
   ]
  },
  {
   "cell_type": "code",
   "execution_count": 3,
   "metadata": {},
   "outputs": [
    {
     "data": {
      "text/html": [
       "<div>\n",
       "<style>\n",
       "    .dataframe thead tr:only-child th {\n",
       "        text-align: right;\n",
       "    }\n",
       "\n",
       "    .dataframe thead th {\n",
       "        text-align: left;\n",
       "    }\n",
       "\n",
       "    .dataframe tbody tr th {\n",
       "        vertical-align: top;\n",
       "    }\n",
       "</style>\n",
       "<table border=\"1\" class=\"dataframe\">\n",
       "  <thead>\n",
       "    <tr style=\"text-align: right;\">\n",
       "      <th></th>\n",
       "      <th>AgentName</th>\n",
       "      <th>ChoicesFile</th>\n",
       "      <th>ConfigFile</th>\n",
       "      <th>Date</th>\n",
       "      <th>GameIdx</th>\n",
       "      <th>GameVariant</th>\n",
       "      <th>ModelFile</th>\n",
       "    </tr>\n",
       "  </thead>\n",
       "  <tbody>\n",
       "    <tr>\n",
       "      <th>0</th>\n",
       "      <td>sam</td>\n",
       "      <td>agent_choices_sam_0001.csv</td>\n",
       "      <td>model_params_sam_0001.csv</td>\n",
       "      <td>20180827</td>\n",
       "      <td>1</td>\n",
       "      <td>no_feedback_v1</td>\n",
       "      <td>model_params_sam_0001.csv</td>\n",
       "    </tr>\n",
       "    <tr>\n",
       "      <th>1</th>\n",
       "      <td>sam</td>\n",
       "      <td>agent_choices_sam_0002.csv</td>\n",
       "      <td>model_params_sam_0002.csv</td>\n",
       "      <td>20180827</td>\n",
       "      <td>2</td>\n",
       "      <td>no_feedback_v1</td>\n",
       "      <td>model_params_sam_0002.csv</td>\n",
       "    </tr>\n",
       "  </tbody>\n",
       "</table>\n",
       "</div>"
      ],
      "text/plain": [
       "  AgentName                 ChoicesFile                 ConfigFile      Date  \\\n",
       "0       sam  agent_choices_sam_0001.csv  model_params_sam_0001.csv  20180827   \n",
       "1       sam  agent_choices_sam_0002.csv  model_params_sam_0002.csv  20180827   \n",
       "\n",
       "   GameIdx     GameVariant                  ModelFile  \n",
       "0        1  no_feedback_v1  model_params_sam_0001.csv  \n",
       "1        2  no_feedback_v1  model_params_sam_0002.csv  "
      ]
     },
     "execution_count": 3,
     "metadata": {},
     "output_type": "execute_result"
    }
   ],
   "source": [
    "game_data"
   ]
  },
  {
   "cell_type": "markdown",
   "metadata": {},
   "source": [
    "### Use cases"
   ]
  },
  {
   "cell_type": "markdown",
   "metadata": {},
   "source": [
    "How many games were played?"
   ]
  },
  {
   "cell_type": "code",
   "execution_count": 4,
   "metadata": {},
   "outputs": [
    {
     "data": {
      "text/plain": [
       "2"
      ]
     },
     "execution_count": 4,
     "metadata": {},
     "output_type": "execute_result"
    }
   ],
   "source": [
    "len(game_data)"
   ]
  },
  {
   "cell_type": "markdown",
   "metadata": {},
   "source": [
    "Find all games of user Amadeus"
   ]
  },
  {
   "cell_type": "code",
   "execution_count": 7,
   "metadata": {},
   "outputs": [
    {
     "data": {
      "text/html": [
       "<div>\n",
       "<style>\n",
       "    .dataframe thead tr:only-child th {\n",
       "        text-align: right;\n",
       "    }\n",
       "\n",
       "    .dataframe thead th {\n",
       "        text-align: left;\n",
       "    }\n",
       "\n",
       "    .dataframe tbody tr th {\n",
       "        vertical-align: top;\n",
       "    }\n",
       "</style>\n",
       "<table border=\"1\" class=\"dataframe\">\n",
       "  <thead>\n",
       "    <tr style=\"text-align: right;\">\n",
       "      <th></th>\n",
       "      <th>AgentName</th>\n",
       "      <th>ChoicesFile</th>\n",
       "      <th>ConfigFile</th>\n",
       "      <th>Date</th>\n",
       "      <th>GameIdx</th>\n",
       "      <th>GameVariant</th>\n",
       "      <th>ModelFile</th>\n",
       "    </tr>\n",
       "  </thead>\n",
       "  <tbody>\n",
       "    <tr>\n",
       "      <th>0</th>\n",
       "      <td>sam</td>\n",
       "      <td>agent_choices_sam_0001.csv</td>\n",
       "      <td>model_params_sam_0001.csv</td>\n",
       "      <td>20180827</td>\n",
       "      <td>1</td>\n",
       "      <td>no_feedback_v1</td>\n",
       "      <td>model_params_sam_0001.csv</td>\n",
       "    </tr>\n",
       "    <tr>\n",
       "      <th>1</th>\n",
       "      <td>sam</td>\n",
       "      <td>agent_choices_sam_0002.csv</td>\n",
       "      <td>model_params_sam_0002.csv</td>\n",
       "      <td>20180827</td>\n",
       "      <td>2</td>\n",
       "      <td>no_feedback_v1</td>\n",
       "      <td>model_params_sam_0002.csv</td>\n",
       "    </tr>\n",
       "  </tbody>\n",
       "</table>\n",
       "</div>"
      ],
      "text/plain": [
       "  AgentName                 ChoicesFile                 ConfigFile      Date  \\\n",
       "0       sam  agent_choices_sam_0001.csv  model_params_sam_0001.csv  20180827   \n",
       "1       sam  agent_choices_sam_0002.csv  model_params_sam_0002.csv  20180827   \n",
       "\n",
       "   GameIdx     GameVariant                  ModelFile  \n",
       "0        1  no_feedback_v1  model_params_sam_0001.csv  \n",
       "1        2  no_feedback_v1  model_params_sam_0002.csv  "
      ]
     },
     "execution_count": 7,
     "metadata": {},
     "output_type": "execute_result"
    }
   ],
   "source": [
    "game_data.loc[game_data['AgentName']=='sam']"
   ]
  },
  {
   "cell_type": "markdown",
   "metadata": {},
   "source": [
    "Print all decisions of Amadeus"
   ]
  },
  {
   "cell_type": "code",
   "execution_count": 6,
   "metadata": {},
   "outputs": [],
   "source": [
    "for model_file in game_data.loc[game_data['AgentName']=='Amadeus']['ChoicesFile'].values:\n",
    "    decisions = pd.DataFrame.from_csv('../data/'+model_file)\n",
    "    print(decisions['AgentChoice'])"
   ]
  },
  {
   "cell_type": "markdown",
   "metadata": {},
   "source": [
    "### Issues"
   ]
  },
  {
   "cell_type": "markdown",
   "metadata": {},
   "source": [
    "#### Important\n",
    "* how should the notebooks of the experiment look like?\n",
    "    - participant should not be distracted by the code...\n",
    "* try longer history dependence\n",
    "* recollect config files\n",
    "\n",
    "\n",
    "#### Minor\n",
    "* rename columns \n",
    "* avoid clash of witing to the same file\n",
    "\n",
    "* keep track of time for decisions"
   ]
  }
 ],
 "metadata": {
  "kernelspec": {
   "display_name": "Python 3",
   "language": "python",
   "name": "python3"
  },
  "language_info": {
   "codemirror_mode": {
    "name": "ipython",
    "version": 3
   },
   "file_extension": ".py",
   "mimetype": "text/x-python",
   "name": "python",
   "nbconvert_exporter": "python",
   "pygments_lexer": "ipython3",
   "version": "3.6.2"
  }
 },
 "nbformat": 4,
 "nbformat_minor": 2
}
