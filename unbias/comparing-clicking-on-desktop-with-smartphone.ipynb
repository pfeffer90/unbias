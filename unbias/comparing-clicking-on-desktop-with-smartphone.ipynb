{
 "cells": [
  {
   "cell_type": "code",
   "execution_count": 1,
   "metadata": {},
   "outputs": [],
   "source": [
    "from load_data import load_common_metadata\n",
    "\n",
    "import numpy as np\n",
    "\n",
    "import pandas as pd"
   ]
  },
  {
   "cell_type": "code",
   "execution_count": 2,
   "metadata": {},
   "outputs": [],
   "source": [
    "data_dir = '../experiments/'\n",
    "meta_data = load_common_metadata('../experiments/')"
   ]
  },
  {
   "cell_type": "code",
   "execution_count": 3,
   "metadata": {},
   "outputs": [
    {
     "data": {
      "text/html": [
       "<div>\n",
       "<style scoped>\n",
       "    .dataframe tbody tr th:only-of-type {\n",
       "        vertical-align: middle;\n",
       "    }\n",
       "\n",
       "    .dataframe tbody tr th {\n",
       "        vertical-align: top;\n",
       "    }\n",
       "\n",
       "    .dataframe thead th {\n",
       "        text-align: right;\n",
       "    }\n",
       "</style>\n",
       "<table border=\"1\" class=\"dataframe\">\n",
       "  <thead>\n",
       "    <tr style=\"text-align: right;\">\n",
       "      <th></th>\n",
       "      <th>AgentName</th>\n",
       "      <th>ChoicesFile</th>\n",
       "      <th>ConfigFile</th>\n",
       "      <th>Date</th>\n",
       "      <th>GameIdx</th>\n",
       "      <th>GameVariant</th>\n",
       "      <th>ModelFile</th>\n",
       "    </tr>\n",
       "  </thead>\n",
       "  <tbody>\n",
       "    <tr>\n",
       "      <th>0</th>\n",
       "      <td>paulpfeiffer</td>\n",
       "      <td>agent_choices_paulpfeiffer_0001.csv</td>\n",
       "      <td>config/experiment1.json</td>\n",
       "      <td>20180827_23:12:38</td>\n",
       "      <td>1</td>\n",
       "      <td>no_feedback_v1</td>\n",
       "      <td>model_params_paulpfeiffer_0001.csv</td>\n",
       "    </tr>\n",
       "    <tr>\n",
       "      <th>1</th>\n",
       "      <td>amadeus</td>\n",
       "      <td>agent_choices_amadeus_0001.csv</td>\n",
       "      <td>config/experiment1.json</td>\n",
       "      <td>20180827_23:11:00</td>\n",
       "      <td>1</td>\n",
       "      <td>no_feedback_v1</td>\n",
       "      <td>model_params_amadeus_0001.csv</td>\n",
       "    </tr>\n",
       "    <tr>\n",
       "      <th>2</th>\n",
       "      <td>bhanu</td>\n",
       "      <td>agent_choices_bhanu_0001.csv</td>\n",
       "      <td>config/experiment1.json</td>\n",
       "      <td>20180827_23:17:35</td>\n",
       "      <td>1</td>\n",
       "      <td>no_feedback_v1</td>\n",
       "      <td>model_params_bhanu_0001.csv</td>\n",
       "    </tr>\n",
       "    <tr>\n",
       "      <th>3</th>\n",
       "      <td>vincent</td>\n",
       "      <td>agent_choices_vincent_0001.csv</td>\n",
       "      <td>config/experiment1.json</td>\n",
       "      <td>20180828_08:29:07</td>\n",
       "      <td>1</td>\n",
       "      <td>no_feedback_v1</td>\n",
       "      <td>model_params_vincent_0001.csv</td>\n",
       "    </tr>\n",
       "    <tr>\n",
       "      <th>4</th>\n",
       "      <td>alessandro</td>\n",
       "      <td>agent_choices_alessandro_0001.csv</td>\n",
       "      <td>config/experiment1.json</td>\n",
       "      <td>20180828_08:31:30</td>\n",
       "      <td>1</td>\n",
       "      <td>no_feedback_v1</td>\n",
       "      <td>model_params_alessandro_0001.csv</td>\n",
       "    </tr>\n",
       "    <tr>\n",
       "      <th>5</th>\n",
       "      <td>unahb</td>\n",
       "      <td>agent_choices_unahb_0001.csv</td>\n",
       "      <td>config/experiment1.json</td>\n",
       "      <td>20180828_10:20:20</td>\n",
       "      <td>1</td>\n",
       "      <td>no_feedback_v1</td>\n",
       "      <td>model_params_unahb_0001.csv</td>\n",
       "    </tr>\n",
       "    <tr>\n",
       "      <th>6</th>\n",
       "      <td>paulpfeiffer</td>\n",
       "      <td>agent_choices_paulpfeiffer_0002.csv</td>\n",
       "      <td>config/experiment1.json</td>\n",
       "      <td>20180828_10:21:55</td>\n",
       "      <td>2</td>\n",
       "      <td>no_feedback_v1</td>\n",
       "      <td>model_params_paulpfeiffer_0002.csv</td>\n",
       "    </tr>\n",
       "    <tr>\n",
       "      <th>7</th>\n",
       "      <td>amadeus</td>\n",
       "      <td>agent_choices_amadeus_0002.csv</td>\n",
       "      <td>config/experiment1.json</td>\n",
       "      <td>20180828_10:22:08</td>\n",
       "      <td>2</td>\n",
       "      <td>no_feedback_v1</td>\n",
       "      <td>model_params_amadeus_0002.csv</td>\n",
       "    </tr>\n",
       "  </tbody>\n",
       "</table>\n",
       "</div>"
      ],
      "text/plain": [
       "      AgentName                          ChoicesFile               ConfigFile  \\\n",
       "0  paulpfeiffer  agent_choices_paulpfeiffer_0001.csv  config/experiment1.json   \n",
       "1       amadeus       agent_choices_amadeus_0001.csv  config/experiment1.json   \n",
       "2         bhanu         agent_choices_bhanu_0001.csv  config/experiment1.json   \n",
       "3       vincent       agent_choices_vincent_0001.csv  config/experiment1.json   \n",
       "4    alessandro    agent_choices_alessandro_0001.csv  config/experiment1.json   \n",
       "5         unahb         agent_choices_unahb_0001.csv  config/experiment1.json   \n",
       "6  paulpfeiffer  agent_choices_paulpfeiffer_0002.csv  config/experiment1.json   \n",
       "7       amadeus       agent_choices_amadeus_0002.csv  config/experiment1.json   \n",
       "\n",
       "                Date GameIdx     GameVariant  \\\n",
       "0  20180827_23:12:38       1  no_feedback_v1   \n",
       "1  20180827_23:11:00       1  no_feedback_v1   \n",
       "2  20180827_23:17:35       1  no_feedback_v1   \n",
       "3  20180828_08:29:07       1  no_feedback_v1   \n",
       "4  20180828_08:31:30       1  no_feedback_v1   \n",
       "5  20180828_10:20:20       1  no_feedback_v1   \n",
       "6  20180828_10:21:55       2  no_feedback_v1   \n",
       "7  20180828_10:22:08       2  no_feedback_v1   \n",
       "\n",
       "                            ModelFile  \n",
       "0  model_params_paulpfeiffer_0001.csv  \n",
       "1       model_params_amadeus_0001.csv  \n",
       "2         model_params_bhanu_0001.csv  \n",
       "3       model_params_vincent_0001.csv  \n",
       "4    model_params_alessandro_0001.csv  \n",
       "5         model_params_unahb_0001.csv  \n",
       "6  model_params_paulpfeiffer_0002.csv  \n",
       "7       model_params_amadeus_0002.csv  "
      ]
     },
     "execution_count": 3,
     "metadata": {},
     "output_type": "execute_result"
    }
   ],
   "source": [
    "meta_data"
   ]
  },
  {
   "cell_type": "code",
   "execution_count": 4,
   "metadata": {},
   "outputs": [],
   "source": [
    "smart_phone_idxs = [5,6,7]\n",
    "desktop_idxs = [0,1,2]"
   ]
  },
  {
   "cell_type": "code",
   "execution_count": 5,
   "metadata": {},
   "outputs": [],
   "source": [
    "def get_number_of_switches(idx):\n",
    "    choices = pd.DataFrame.from_csv(data_dir+meta_data.loc[idx]['ChoicesFile'])['AgentChoice'].values\n",
    "    number_of_switches = np.sum(np.ediff1d(choices) != 0)\n",
    "    return number_of_switches"
   ]
  },
  {
   "cell_type": "code",
   "execution_count": 6,
   "metadata": {},
   "outputs": [
    {
     "name": "stdout",
     "output_type": "stream",
     "text": [
      "paulpfeiffer\n",
      "147\n",
      "amadeus\n",
      "89\n",
      "bhanu\n",
      "104\n"
     ]
    },
    {
     "name": "stderr",
     "output_type": "stream",
     "text": [
      "/opt/tljh/user/lib/python3.6/site-packages/ipykernel_launcher.py:2: FutureWarning: from_csv is deprecated. Please use read_csv(...) instead. Note that some of the default arguments are different, so please refer to the documentation for from_csv when changing your function calls\n",
      "  \n"
     ]
    }
   ],
   "source": [
    "for idx in desktop_idxs:\n",
    "    print(meta_data.loc[idx]['AgentName'])\n",
    "    print(get_number_of_switches(idx))"
   ]
  },
  {
   "cell_type": "code",
   "execution_count": 7,
   "metadata": {},
   "outputs": [
    {
     "name": "stdout",
     "output_type": "stream",
     "text": [
      "unahb\n",
      "115\n",
      "paulpfeiffer\n",
      "170\n",
      "amadeus\n",
      "144\n"
     ]
    },
    {
     "name": "stderr",
     "output_type": "stream",
     "text": [
      "/opt/tljh/user/lib/python3.6/site-packages/ipykernel_launcher.py:2: FutureWarning: from_csv is deprecated. Please use read_csv(...) instead. Note that some of the default arguments are different, so please refer to the documentation for from_csv when changing your function calls\n",
      "  \n"
     ]
    }
   ],
   "source": [
    "for idx in smart_phone_idxs:\n",
    "    print(meta_data.loc[idx]['AgentName'])\n",
    "    print(get_number_of_switches(idx))"
   ]
  }
 ],
 "metadata": {
  "kernelspec": {
   "display_name": "Python 3",
   "language": "python",
   "name": "python3"
  },
  "language_info": {
   "codemirror_mode": {
    "name": "ipython",
    "version": 3
   },
   "file_extension": ".py",
   "mimetype": "text/x-python",
   "name": "python",
   "nbconvert_exporter": "python",
   "pygments_lexer": "ipython3",
   "version": "3.6.5"
  }
 },
 "nbformat": 4,
 "nbformat_minor": 2
}
