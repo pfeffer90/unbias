{
 "cells": [
  {
   "cell_type": "code",
   "execution_count": 1,
   "metadata": {
    "collapsed": true
   },
   "outputs": [],
   "source": [
    "import numpy as np\n",
    "from training_data import generate_stationary_agent_choices\n",
    "from collections import Counter\n",
    "import pandas as pd"
   ]
  },
  {
   "cell_type": "code",
   "execution_count": 2,
   "metadata": {
    "collapsed": true
   },
   "outputs": [],
   "source": [
    "from load_data import load_common_metadata\n",
    "from outguesser import linear_choice_history_dependent_model"
   ]
  },
  {
   "cell_type": "code",
   "execution_count": 3,
   "metadata": {
    "collapsed": true
   },
   "outputs": [],
   "source": [
    "from outguesser import separate_choices_sequences_into_history_and_choice\n",
    "\n",
    "from outguesser import momentum_gradient_descent, maximum_a_posteriori"
   ]
  },
  {
   "cell_type": "code",
   "execution_count": 4,
   "metadata": {
    "collapsed": true
   },
   "outputs": [],
   "source": [
    "data_dir = '../experiments/'\n",
    "metadata = load_common_metadata(data_dir)"
   ]
  },
  {
   "cell_type": "code",
   "execution_count": 5,
   "metadata": {},
   "outputs": [
    {
     "data": {
      "text/html": [
       "<div>\n",
       "<style scoped>\n",
       "    .dataframe tbody tr th:only-of-type {\n",
       "        vertical-align: middle;\n",
       "    }\n",
       "\n",
       "    .dataframe tbody tr th {\n",
       "        vertical-align: top;\n",
       "    }\n",
       "\n",
       "    .dataframe thead th {\n",
       "        text-align: right;\n",
       "    }\n",
       "</style>\n",
       "<table border=\"1\" class=\"dataframe\">\n",
       "  <thead>\n",
       "    <tr style=\"text-align: right;\">\n",
       "      <th></th>\n",
       "      <th>AgentName</th>\n",
       "      <th>ChoicesFile</th>\n",
       "      <th>ConfigFile</th>\n",
       "      <th>Date</th>\n",
       "      <th>DeviceType</th>\n",
       "      <th>GameIdx</th>\n",
       "      <th>GameVariant</th>\n",
       "      <th>ModelFile</th>\n",
       "    </tr>\n",
       "  </thead>\n",
       "  <tbody>\n",
       "    <tr>\n",
       "      <th>0</th>\n",
       "      <td>alessandro</td>\n",
       "      <td>agent_choices_alessandro_0001.csv</td>\n",
       "      <td>config/experiment1.json</td>\n",
       "      <td>20180828_08:31:30</td>\n",
       "      <td>Desktop</td>\n",
       "      <td>1</td>\n",
       "      <td>no_feedback_v1</td>\n",
       "      <td>model_params_alessandro_0001.csv</td>\n",
       "    </tr>\n",
       "    <tr>\n",
       "      <th>1</th>\n",
       "      <td>alex</td>\n",
       "      <td>agent_choices_alex_0001.csv</td>\n",
       "      <td>config/experiment2.json</td>\n",
       "      <td>20180828_14:21:02</td>\n",
       "      <td>Mobile</td>\n",
       "      <td>1</td>\n",
       "      <td>no_feedback_v2</td>\n",
       "      <td>model_params_alex_0001.csv</td>\n",
       "    </tr>\n",
       "    <tr>\n",
       "      <th>2</th>\n",
       "      <td>chen</td>\n",
       "      <td>agent_choices_chen_0001.csv</td>\n",
       "      <td>config/experiment2.json</td>\n",
       "      <td>20180828_14:16:44</td>\n",
       "      <td>Desktop</td>\n",
       "      <td>1</td>\n",
       "      <td>no_feedback_v2</td>\n",
       "      <td>model_params_chen_0001.csv</td>\n",
       "    </tr>\n",
       "    <tr>\n",
       "      <th>3</th>\n",
       "      <td>brianlau</td>\n",
       "      <td>agent_choices_brianlau_0001.csv</td>\n",
       "      <td>config/experiment2.json</td>\n",
       "      <td>20180828_14:25:21</td>\n",
       "      <td>Mobile</td>\n",
       "      <td>1</td>\n",
       "      <td>no_feedback_v2</td>\n",
       "      <td>model_params_brianlau_0001.csv</td>\n",
       "    </tr>\n",
       "    <tr>\n",
       "      <th>4</th>\n",
       "      <td>bhanu</td>\n",
       "      <td>agent_choices_bhanu_0001.csv</td>\n",
       "      <td>config/experiment1.json</td>\n",
       "      <td>20180827_23:17:35</td>\n",
       "      <td>Desktop</td>\n",
       "      <td>1</td>\n",
       "      <td>no_feedback_v1</td>\n",
       "      <td>model_params_bhanu_0001.csv</td>\n",
       "    </tr>\n",
       "    <tr>\n",
       "      <th>5</th>\n",
       "      <td>andre</td>\n",
       "      <td>agent_choices_andre_0001.csv</td>\n",
       "      <td>config/experiment2.json</td>\n",
       "      <td>20180828_14:12:28</td>\n",
       "      <td>Desktop</td>\n",
       "      <td>1</td>\n",
       "      <td>no_feedback_v2</td>\n",
       "      <td>model_params_andre_0001.csv</td>\n",
       "    </tr>\n",
       "    <tr>\n",
       "      <th>6</th>\n",
       "      <td>bhanu</td>\n",
       "      <td>agent_choices_bhanu_0002.csv</td>\n",
       "      <td>config/experiment1.json</td>\n",
       "      <td>20180828_10:20:20</td>\n",
       "      <td>Mobile</td>\n",
       "      <td>2</td>\n",
       "      <td>no_feedback_v1</td>\n",
       "      <td>model_params_bhanu_0002.csv</td>\n",
       "    </tr>\n",
       "    <tr>\n",
       "      <th>7</th>\n",
       "      <td>laura</td>\n",
       "      <td>agent_choices_laura_0001.csv</td>\n",
       "      <td>config/experiment2.json</td>\n",
       "      <td>20180828_14:09:52</td>\n",
       "      <td>Mobile</td>\n",
       "      <td>1</td>\n",
       "      <td>no_feedback_v2</td>\n",
       "      <td>model_params_laura_0001.csv</td>\n",
       "    </tr>\n",
       "    <tr>\n",
       "      <th>8</th>\n",
       "      <td>lr</td>\n",
       "      <td>agent_choices_lr_0001.csv</td>\n",
       "      <td>config/experiment2.json</td>\n",
       "      <td>20180828_14:19:14</td>\n",
       "      <td>Desktop</td>\n",
       "      <td>1</td>\n",
       "      <td>no_feedback_v2</td>\n",
       "      <td>model_params_lr_0001.csv</td>\n",
       "    </tr>\n",
       "    <tr>\n",
       "      <th>9</th>\n",
       "      <td>amadeus</td>\n",
       "      <td>agent_choices_amadeus_0001.csv</td>\n",
       "      <td>config/experiment1.json</td>\n",
       "      <td>20180827_23:11:00</td>\n",
       "      <td>Desktop</td>\n",
       "      <td>1</td>\n",
       "      <td>no_feedback_v1</td>\n",
       "      <td>model_params_amadeus_0001.csv</td>\n",
       "    </tr>\n",
       "    <tr>\n",
       "      <th>10</th>\n",
       "      <td>amadeus</td>\n",
       "      <td>agent_choices_amadeus_0002.csv</td>\n",
       "      <td>config/experiment1.json</td>\n",
       "      <td>20180828_10:22:08</td>\n",
       "      <td>Mobile</td>\n",
       "      <td>2</td>\n",
       "      <td>no_feedback_v1</td>\n",
       "      <td>model_params_amadeus_0002.csv</td>\n",
       "    </tr>\n",
       "    <tr>\n",
       "      <th>11</th>\n",
       "      <td>paulpfeiffer</td>\n",
       "      <td>agent_choices_paulpfeiffer_0002.csv</td>\n",
       "      <td>config/experiment1.json</td>\n",
       "      <td>20180828_10:21:55</td>\n",
       "      <td>Mobile</td>\n",
       "      <td>2</td>\n",
       "      <td>no_feedback_v1</td>\n",
       "      <td>model_params_paulpfeiffer_0002.csv</td>\n",
       "    </tr>\n",
       "    <tr>\n",
       "      <th>12</th>\n",
       "      <td>paulpfeiffer</td>\n",
       "      <td>agent_choices_paulpfeiffer_0001.csv</td>\n",
       "      <td>config/experiment1.json</td>\n",
       "      <td>20180827_23:12:38</td>\n",
       "      <td>Desktop</td>\n",
       "      <td>1</td>\n",
       "      <td>no_feedback_v1</td>\n",
       "      <td>model_params_paulpfeiffer_0001.csv</td>\n",
       "    </tr>\n",
       "    <tr>\n",
       "      <th>13</th>\n",
       "      <td>nikita</td>\n",
       "      <td>agent_choices_nikita_0001.csv</td>\n",
       "      <td>config/experiment2.json</td>\n",
       "      <td>20180828_14:26:24</td>\n",
       "      <td>Desktop</td>\n",
       "      <td>1</td>\n",
       "      <td>no_feedback_v2</td>\n",
       "      <td>model_params_nikita_0001.csv</td>\n",
       "    </tr>\n",
       "    <tr>\n",
       "      <th>14</th>\n",
       "      <td>paulpfeiffer</td>\n",
       "      <td>agent_choices_paulpfeiffer_0003.csv</td>\n",
       "      <td>config/experiment2.json</td>\n",
       "      <td>20180828_13:51:49</td>\n",
       "      <td>Desktop</td>\n",
       "      <td>3</td>\n",
       "      <td>no_feedback_v2</td>\n",
       "      <td>model_params_paulpfeiffer_0003.csv</td>\n",
       "    </tr>\n",
       "    <tr>\n",
       "      <th>15</th>\n",
       "      <td>poornima</td>\n",
       "      <td>agent_choices_poornima_0001.csv</td>\n",
       "      <td>config/experiment2.json</td>\n",
       "      <td>20180828_14:07:53</td>\n",
       "      <td>Mobile</td>\n",
       "      <td>1</td>\n",
       "      <td>no_feedback_v2</td>\n",
       "      <td>model_params_poornima_0001.csv</td>\n",
       "    </tr>\n",
       "    <tr>\n",
       "      <th>16</th>\n",
       "      <td>sara</td>\n",
       "      <td>agent_choices_sara_0001.csv</td>\n",
       "      <td>config/experiment2.json</td>\n",
       "      <td>20180828_14:24:07</td>\n",
       "      <td>Desktop</td>\n",
       "      <td>1</td>\n",
       "      <td>no_feedback_v2</td>\n",
       "      <td>model_params_sara_0001.csv</td>\n",
       "    </tr>\n",
       "    <tr>\n",
       "      <th>17</th>\n",
       "      <td>vincent</td>\n",
       "      <td>agent_choices_vincent_0001.csv</td>\n",
       "      <td>config/experiment1.json</td>\n",
       "      <td>20180828_08:29:07</td>\n",
       "      <td>Desktop</td>\n",
       "      <td>1</td>\n",
       "      <td>no_feedback_v1</td>\n",
       "      <td>model_params_vincent_0001.csv</td>\n",
       "    </tr>\n",
       "    <tr>\n",
       "      <th>18</th>\n",
       "      <td>monzilur</td>\n",
       "      <td>agent_choices_monzilur_0001.csv</td>\n",
       "      <td>config/experiment2.json</td>\n",
       "      <td>20180828_14:12:27</td>\n",
       "      <td>Desktop</td>\n",
       "      <td>1</td>\n",
       "      <td>no_feedback_v2</td>\n",
       "      <td>model_params_monzilur_0001.csv</td>\n",
       "    </tr>\n",
       "    <tr>\n",
       "      <th>19</th>\n",
       "      <td>ninjaturtle</td>\n",
       "      <td>agent_choices_ninjaturtle_0002.csv</td>\n",
       "      <td>config/experiment2.json</td>\n",
       "      <td>20180828_14:14:35</td>\n",
       "      <td>Mobile</td>\n",
       "      <td>2</td>\n",
       "      <td>no_feedback_v2</td>\n",
       "      <td>model_params_ninjaturtle_0002.csv</td>\n",
       "    </tr>\n",
       "    <tr>\n",
       "      <th>20</th>\n",
       "      <td>vassilis</td>\n",
       "      <td>agent_choices_vassilis_0001.csv</td>\n",
       "      <td>config/experiment2.json</td>\n",
       "      <td>20180828_14:17:46</td>\n",
       "      <td>Mobile</td>\n",
       "      <td>1</td>\n",
       "      <td>no_feedback_v2</td>\n",
       "      <td>model_params_vassilis_0001.csv</td>\n",
       "    </tr>\n",
       "    <tr>\n",
       "      <th>21</th>\n",
       "      <td>ninjaturtle</td>\n",
       "      <td>agent_choices_ninjaturtle_0001.csv</td>\n",
       "      <td>config/experiment2.json</td>\n",
       "      <td>20180828_14:09:50</td>\n",
       "      <td>Desktop</td>\n",
       "      <td>1</td>\n",
       "      <td>no_feedback_v2</td>\n",
       "      <td>model_params_ninjaturtle_0001.csv</td>\n",
       "    </tr>\n",
       "    <tr>\n",
       "      <th>22</th>\n",
       "      <td>sr</td>\n",
       "      <td>agent_choices_sr_0001.csv</td>\n",
       "      <td>config/experiment2.json</td>\n",
       "      <td>20180828_14:23:28</td>\n",
       "      <td>Desktop</td>\n",
       "      <td>1</td>\n",
       "      <td>no_feedback_v2</td>\n",
       "      <td>model_params_sr_0001.csv</td>\n",
       "    </tr>\n",
       "    <tr>\n",
       "      <th>23</th>\n",
       "      <td>samuel</td>\n",
       "      <td>agent_choices_samuel_0001.csv</td>\n",
       "      <td>config/experiment2.json</td>\n",
       "      <td>20180828_14:08:56</td>\n",
       "      <td>Desktop</td>\n",
       "      <td>1</td>\n",
       "      <td>no_feedback_v2</td>\n",
       "      <td>model_params_samuel_0001.csv</td>\n",
       "    </tr>\n",
       "    <tr>\n",
       "      <th>24</th>\n",
       "      <td>poornima</td>\n",
       "      <td>agent_choices_poornima_0002.csv</td>\n",
       "      <td>config/experiment2.json</td>\n",
       "      <td>20180828_14:14:19</td>\n",
       "      <td>Desktop</td>\n",
       "      <td>2</td>\n",
       "      <td>no_feedback_v2</td>\n",
       "      <td>model_params_poornima_0002.csv</td>\n",
       "    </tr>\n",
       "  </tbody>\n",
       "</table>\n",
       "</div>"
      ],
      "text/plain": [
       "       AgentName                          ChoicesFile  \\\n",
       "0     alessandro    agent_choices_alessandro_0001.csv   \n",
       "1           alex          agent_choices_alex_0001.csv   \n",
       "2           chen          agent_choices_chen_0001.csv   \n",
       "3       brianlau      agent_choices_brianlau_0001.csv   \n",
       "4          bhanu         agent_choices_bhanu_0001.csv   \n",
       "5          andre         agent_choices_andre_0001.csv   \n",
       "6          bhanu         agent_choices_bhanu_0002.csv   \n",
       "7          laura         agent_choices_laura_0001.csv   \n",
       "8             lr            agent_choices_lr_0001.csv   \n",
       "9        amadeus       agent_choices_amadeus_0001.csv   \n",
       "10       amadeus       agent_choices_amadeus_0002.csv   \n",
       "11  paulpfeiffer  agent_choices_paulpfeiffer_0002.csv   \n",
       "12  paulpfeiffer  agent_choices_paulpfeiffer_0001.csv   \n",
       "13        nikita        agent_choices_nikita_0001.csv   \n",
       "14  paulpfeiffer  agent_choices_paulpfeiffer_0003.csv   \n",
       "15      poornima      agent_choices_poornima_0001.csv   \n",
       "16          sara          agent_choices_sara_0001.csv   \n",
       "17       vincent       agent_choices_vincent_0001.csv   \n",
       "18      monzilur      agent_choices_monzilur_0001.csv   \n",
       "19   ninjaturtle   agent_choices_ninjaturtle_0002.csv   \n",
       "20      vassilis      agent_choices_vassilis_0001.csv   \n",
       "21   ninjaturtle   agent_choices_ninjaturtle_0001.csv   \n",
       "22            sr            agent_choices_sr_0001.csv   \n",
       "23        samuel        agent_choices_samuel_0001.csv   \n",
       "24      poornima      agent_choices_poornima_0002.csv   \n",
       "\n",
       "                 ConfigFile               Date DeviceType GameIdx  \\\n",
       "0   config/experiment1.json  20180828_08:31:30    Desktop       1   \n",
       "1   config/experiment2.json  20180828_14:21:02     Mobile       1   \n",
       "2   config/experiment2.json  20180828_14:16:44    Desktop       1   \n",
       "3   config/experiment2.json  20180828_14:25:21     Mobile       1   \n",
       "4   config/experiment1.json  20180827_23:17:35    Desktop       1   \n",
       "5   config/experiment2.json  20180828_14:12:28    Desktop       1   \n",
       "6   config/experiment1.json  20180828_10:20:20     Mobile       2   \n",
       "7   config/experiment2.json  20180828_14:09:52     Mobile       1   \n",
       "8   config/experiment2.json  20180828_14:19:14    Desktop       1   \n",
       "9   config/experiment1.json  20180827_23:11:00    Desktop       1   \n",
       "10  config/experiment1.json  20180828_10:22:08     Mobile       2   \n",
       "11  config/experiment1.json  20180828_10:21:55     Mobile       2   \n",
       "12  config/experiment1.json  20180827_23:12:38    Desktop       1   \n",
       "13  config/experiment2.json  20180828_14:26:24    Desktop       1   \n",
       "14  config/experiment2.json  20180828_13:51:49    Desktop       3   \n",
       "15  config/experiment2.json  20180828_14:07:53     Mobile       1   \n",
       "16  config/experiment2.json  20180828_14:24:07    Desktop       1   \n",
       "17  config/experiment1.json  20180828_08:29:07    Desktop       1   \n",
       "18  config/experiment2.json  20180828_14:12:27    Desktop       1   \n",
       "19  config/experiment2.json  20180828_14:14:35     Mobile       2   \n",
       "20  config/experiment2.json  20180828_14:17:46     Mobile       1   \n",
       "21  config/experiment2.json  20180828_14:09:50    Desktop       1   \n",
       "22  config/experiment2.json  20180828_14:23:28    Desktop       1   \n",
       "23  config/experiment2.json  20180828_14:08:56    Desktop       1   \n",
       "24  config/experiment2.json  20180828_14:14:19    Desktop       2   \n",
       "\n",
       "       GameVariant                           ModelFile  \n",
       "0   no_feedback_v1    model_params_alessandro_0001.csv  \n",
       "1   no_feedback_v2          model_params_alex_0001.csv  \n",
       "2   no_feedback_v2          model_params_chen_0001.csv  \n",
       "3   no_feedback_v2      model_params_brianlau_0001.csv  \n",
       "4   no_feedback_v1         model_params_bhanu_0001.csv  \n",
       "5   no_feedback_v2         model_params_andre_0001.csv  \n",
       "6   no_feedback_v1         model_params_bhanu_0002.csv  \n",
       "7   no_feedback_v2         model_params_laura_0001.csv  \n",
       "8   no_feedback_v2            model_params_lr_0001.csv  \n",
       "9   no_feedback_v1       model_params_amadeus_0001.csv  \n",
       "10  no_feedback_v1       model_params_amadeus_0002.csv  \n",
       "11  no_feedback_v1  model_params_paulpfeiffer_0002.csv  \n",
       "12  no_feedback_v1  model_params_paulpfeiffer_0001.csv  \n",
       "13  no_feedback_v2        model_params_nikita_0001.csv  \n",
       "14  no_feedback_v2  model_params_paulpfeiffer_0003.csv  \n",
       "15  no_feedback_v2      model_params_poornima_0001.csv  \n",
       "16  no_feedback_v2          model_params_sara_0001.csv  \n",
       "17  no_feedback_v1       model_params_vincent_0001.csv  \n",
       "18  no_feedback_v2      model_params_monzilur_0001.csv  \n",
       "19  no_feedback_v2   model_params_ninjaturtle_0002.csv  \n",
       "20  no_feedback_v2      model_params_vassilis_0001.csv  \n",
       "21  no_feedback_v2   model_params_ninjaturtle_0001.csv  \n",
       "22  no_feedback_v2            model_params_sr_0001.csv  \n",
       "23  no_feedback_v2        model_params_samuel_0001.csv  \n",
       "24  no_feedback_v2      model_params_poornima_0002.csv  "
      ]
     },
     "execution_count": 5,
     "metadata": {},
     "output_type": "execute_result"
    }
   ],
   "source": [
    "metadata"
   ]
  },
  {
   "cell_type": "markdown",
   "metadata": {},
   "source": [
    "In:\n",
    "* agent, history length, cross validation\n",
    "\n",
    "Out: \n",
    "* parameters, classification error"
   ]
  },
  {
   "cell_type": "code",
   "execution_count": 6,
   "metadata": {
    "collapsed": true
   },
   "outputs": [],
   "source": [
    "def get_model_params(expdataframe, weight_prior, optimizer):\n",
    "    choices = pd.DataFrame.from_csv(data_dir + expdataframe['ChoicesFile']).values\n",
    "    weights = optimizer(weight_prior, choices)\n",
    "    return weights"
   ]
  },
  {
   "cell_type": "markdown",
   "metadata": {},
   "source": [
    "# Bias and serial correlations"
   ]
  },
  {
   "cell_type": "code",
   "execution_count": 7,
   "metadata": {
    "collapsed": true
   },
   "outputs": [],
   "source": [
    "history_length = 10\n",
    "weight_prior = np.zeros((history_length+1))\n"
   ]
  },
  {
   "cell_type": "code",
   "execution_count": 8,
   "metadata": {},
   "outputs": [
    {
     "name": "stderr",
     "output_type": "stream",
     "text": [
      "/home/amadeus/miniconda3/envs/unbias/lib/python3.6/site-packages/ipykernel_launcher.py:2: FutureWarning: from_csv is deprecated. Please use read_csv(...) instead. Note that some of the default arguments are different, so please refer to the documentation for from_csv when changing your function calls\n",
      "  \n"
     ]
    }
   ],
   "source": [
    "model_params=[]\n",
    "for i in range(len(metadata)):\n",
    "    model_params = model_params + [get_model_params(metadata.iloc[i], weight_prior, linear_choice_history_dependent_model)]\n",
    "    "
   ]
  },
  {
   "cell_type": "code",
   "execution_count": 9,
   "metadata": {
    "collapsed": true
   },
   "outputs": [],
   "source": [
    "mean_abs_weights = np.mean(np.abs(np.array(model_params)), axis=0)"
   ]
  },
  {
   "cell_type": "markdown",
   "metadata": {},
   "source": [
    "### Plot"
   ]
  },
  {
   "cell_type": "markdown",
   "metadata": {},
   "source": [
    "### Show biases"
   ]
  },
  {
   "cell_type": "code",
   "execution_count": 10,
   "metadata": {
    "collapsed": true
   },
   "outputs": [],
   "source": [
    "import matplotlib.pyplot as plt\n",
    "from training_data import sigmoid"
   ]
  },
  {
   "cell_type": "code",
   "execution_count": 11,
   "metadata": {
    "collapsed": true
   },
   "outputs": [],
   "source": [
    "%matplotlib inline"
   ]
  },
  {
   "cell_type": "code",
   "execution_count": 12,
   "metadata": {},
   "outputs": [
    {
     "data": {
      "text/plain": [
       "(-0.6, 0.6)"
      ]
     },
     "execution_count": 12,
     "metadata": {},
     "output_type": "execute_result"
    },
    {
     "data": {
      "image/png": "[encoded data removed]",
      "text/plain": [
       "<matplotlib.figure.Figure at 0x7fa61f4290b8>"
      ]
     },
     "metadata": {},
     "output_type": "display_data"
    }
   ],
   "source": [
    "fig = plt.figure()\n",
    "ax_bias = fig.add_subplot(121)\n",
    "ax_weights = fig.add_subplot(122)\n",
    "\n",
    "for model_param in model_params:\n",
    "    ax_bias.scatter(1,model_param[0])\n",
    "    ax_weights.plot(list(range(len(model_param[1:]))), model_param[-1:0:-1])\n",
    "    \n",
    "ax_bias.set_ylim(-0.6,0.6)\n"
   ]
  },
  {
   "cell_type": "code",
   "execution_count": 13,
   "metadata": {},
   "outputs": [
    {
     "data": {
      "image/png": "[encoded data removed]",
      "text/plain": [
       "<matplotlib.figure.Figure at 0x7fa61efa32b0>"
      ]
     },
     "metadata": {},
     "output_type": "display_data"
    }
   ],
   "source": [
    "fig = plt.figure()\n",
    "ax_bias = fig.add_subplot(121)\n",
    "ax_weights = fig.add_subplot(122)\n",
    "\n",
    "for model_param in model_params:\n",
    "    ax_bias.scatter(1,sigmoid(model_param[0],1))\n",
    "    ax_weights.plot(list(range(len(model_param[1:]))), np.abs(model_param[-1:0:-1]), color='k', alpha=0.2)\n",
    "    \n",
    "ax_weights.plot(list(range(len(model_param[1:]))), mean_abs_weights[-1:0:-1], color='k')    \n",
    "\n",
    "ax_bias.set_ylim(0.4,0.65)\n",
    "ax_bias.set_ylabel('ratio of 1s')\n",
    "ax_weights.set_xlabel('lag')\n",
    "ax_weights.set_ylabel('|w|')\n",
    "\n",
    "plt.tight_layout()"
   ]
  },
  {
   "cell_type": "markdown",
   "metadata": {},
   "source": [
    "* add probability of a 1 on the left figure"
   ]
  },
  {
   "cell_type": "code",
   "execution_count": 14,
   "metadata": {
    "collapsed": true
   },
   "outputs": [],
   "source": [
    "from training_data import sigmoid"
   ]
  },
  {
   "cell_type": "markdown",
   "metadata": {},
   "source": [
    "### Classification error"
   ]
  },
  {
   "cell_type": "code",
   "execution_count": 15,
   "metadata": {
    "collapsed": true
   },
   "outputs": [],
   "source": [
    "from outguesser import regularized_momentum_gradient_descent\n",
    "def get_classification_error(experiment, history_length):\n",
    "    choices = pd.DataFrame.from_csv(data_dir + experiment['ChoicesFile']).values\n",
    "    x, y = separate_choices_sequences_into_history_and_choice(choices[:,0], history_length)\n",
    "    \n",
    "    ones_row = np.ones((1, x.shape[1]))\n",
    "    x = np.concatenate((ones_row, x), axis=0)\n",
    "\n",
    "    number_of_data_points = x.shape[1]\n",
    "    validation_chunk_size = int(validation_ratio*number_of_data_points)\n",
    "    all_indxs = np.arange(0, number_of_data_points)\n",
    "    weight_prior = np.zeros((history_length+1,))\n",
    "\n",
    "    classification_error=[]\n",
    "    for i in np.arange(0, int(number_of_data_points/validation_chunk_size)):\n",
    "        test_idxs = np.arange(i*validation_chunk_size, (i+1)*validation_chunk_size)\n",
    "        training_idxs = np.array(list(set(all_indxs)-set(test_idxs)))\n",
    "        model_params = momentum_gradient_descent(weight_prior, x[:,training_idxs], y[training_idxs])\n",
    "        predictions = [maximum_a_posteriori(model_params,x_i) for x_i in np.transpose(x[:, test_idxs])]\n",
    "        classification_error.append(np.sum(predictions!=y[test_idxs])/validation_chunk_size)\n",
    "    return classification_error\n",
    "    "
   ]
  },
  {
   "cell_type": "markdown",
   "metadata": {},
   "source": [
    "#### Cross validation"
   ]
  },
  {
   "cell_type": "code",
   "execution_count": 16,
   "metadata": {
    "collapsed": true
   },
   "outputs": [],
   "source": [
    "validation_ratio = 0.2\n",
    "history_length = 5"
   ]
  },
  {
   "cell_type": "code",
   "execution_count": 17,
   "metadata": {},
   "outputs": [
    {
     "name": "stderr",
     "output_type": "stream",
     "text": [
      "/home/amadeus/miniconda3/envs/unbias/lib/python3.6/site-packages/ipykernel_launcher.py:3: FutureWarning: from_csv is deprecated. Please use read_csv(...) instead. Note that some of the default arguments are different, so please refer to the documentation for from_csv when changing your function calls\n",
      "  This is separate from the ipykernel package so we can avoid doing imports until\n"
     ]
    }
   ],
   "source": [
    "classification_errors=[]\n",
    "for i in range(len(metadata)):\n",
    "    classification_errors.append(get_classification_error(metadata.iloc[i], history_length))\n",
    "    "
   ]
  },
  {
   "cell_type": "code",
   "execution_count": 18,
   "metadata": {
    "collapsed": true
   },
   "outputs": [],
   "source": [
    "mean_class_errors = np.mean(np.array(classification_errors), axis=1)"
   ]
  },
  {
   "cell_type": "code",
   "execution_count": 19,
   "metadata": {},
   "outputs": [
    {
     "data": {
      "text/plain": [
       "0.3751836734693878"
      ]
     },
     "execution_count": 19,
     "metadata": {},
     "output_type": "execute_result"
    }
   ],
   "source": [
    "np.mean(mean_class_errors)"
   ]
  },
  {
   "cell_type": "code",
   "execution_count": 20,
   "metadata": {},
   "outputs": [
    {
     "name": "stderr",
     "output_type": "stream",
     "text": [
      "/home/amadeus/miniconda3/envs/unbias/lib/python3.6/site-packages/ipykernel_launcher.py:3: FutureWarning: from_csv is deprecated. Please use read_csv(...) instead. Note that some of the default arguments are different, so please refer to the documentation for from_csv when changing your function calls\n",
      "  This is separate from the ipykernel package so we can avoid doing imports until\n"
     ]
    },
    {
     "data": {
      "image/png": "[encoded data removed]",
      "text/plain": [
       "<matplotlib.figure.Figure at 0x7fa61f1629e8>"
      ]
     },
     "metadata": {},
     "output_type": "display_data"
    }
   ],
   "source": [
    "mean_error = np.zeros((12,))\n",
    "for history_length in range(0,12):\n",
    "    classification_errors=[]\n",
    "    for i in range(len(metadata)):\n",
    "        classification_errors.append(get_classification_error(metadata.iloc[i], history_length))\n",
    "    mean_class_errors = np.mean(np.array(classification_errors), axis=1)\n",
    "    mean_error[history_length] = np.mean(mean_class_errors)\n",
    "plt.plot(mean_error,'*')\n",
    "plt.show()"
   ]
  },
  {
   "cell_type": "markdown",
   "metadata": {},
   "source": [
    "#### Ranking"
   ]
  },
  {
   "cell_type": "code",
   "execution_count": 21,
   "metadata": {
    "scrolled": true
   },
   "outputs": [
    {
     "data": {
      "text/plain": [
       "[('laura', 0.2680851063829787),\n",
       " ('amadeus', 0.2851063829787234),\n",
       " ('poornima', 0.2893617021276596),\n",
       " ('poornima', 0.2978723404255319),\n",
       " ('sara', 0.30638297872340425),\n",
       " ('vassilis', 0.3191489361702128),\n",
       " ('paulpfeiffer', 0.33191489361702126),\n",
       " ('paulpfeiffer', 0.3361702127659575),\n",
       " ('nikita', 0.3489361702127659),\n",
       " ('amadeus', 0.34893617021276596),\n",
       " ('sr', 0.34893617021276596),\n",
       " ('monzilur', 0.3574468085106383),\n",
       " ('alex', 0.3617021276595745),\n",
       " ('chen', 0.37021276595744684),\n",
       " ('brianlau', 0.3872340425531915),\n",
       " ('vincent', 0.44255319148936173),\n",
       " ('bhanu', 0.451063829787234),\n",
       " ('paulpfeiffer', 0.45106382978723414),\n",
       " ('lr', 0.4595744680851063),\n",
       " ('samuel', 0.45957446808510644),\n",
       " ('andre', 0.46382978723404256),\n",
       " ('ninjaturtle', 0.46382978723404256),\n",
       " ('ninjaturtle', 0.4680851063829786),\n",
       " ('alessandro', 0.4936170212765957),\n",
       " ('bhanu', 0.502127659574468)]"
      ]
     },
     "execution_count": 21,
     "metadata": {},
     "output_type": "execute_result"
    }
   ],
   "source": [
    "results = list(zip(metadata['AgentName'].values, mean_class_errors))\n",
    "results.sort(key=lambda x: x[1])\n",
    "results"
   ]
  },
  {
   "cell_type": "code",
   "execution_count": 22,
   "metadata": {},
   "outputs": [],
   "source": [
    "import seaborn as sns"
   ]
  },
  {
   "cell_type": "code",
   "execution_count": 23,
   "metadata": {},
   "outputs": [
    {
     "data": {
      "image/png": "[encoded data removed]",
      "text/plain": [
       "<matplotlib.figure.Figure at 0x7fa611ed3ac8>"
      ]
     },
     "metadata": {},
     "output_type": "display_data"
    }
   ],
   "source": [
    "\n",
    "y = np.arange(0,len(metadata))\n",
    "x = np.zeros((len(metadata),))\n",
    "my_yticks = []\n",
    "for i in range(len(metadata)):\n",
    "    x[i] = results[i][1]\n",
    "    my_yticks.append(results[i][0])\n",
    "    \n",
    "    \n",
    "plt.figure(figsize=(5,10))\n",
    "\n",
    "plt.yticks(y, my_yticks)\n",
    "plt.plot(x, y,'*')\n",
    "plt.xlabel('classification error')\n",
    "plt.xlim(0.52,0.24)\n",
    "sns.despine()\n",
    "plt.show()"
   ]
  },
  {
   "cell_type": "markdown",
   "metadata": {},
   "source": [
    "non linear features\n",
    "Laplace"
   ]
  },
  {
   "cell_type": "markdown",
   "metadata": {},
   "source": [
    "## Blop"
   ]
  },
  {
   "cell_type": "code",
   "execution_count": 24,
   "metadata": {
    "collapsed": true
   },
   "outputs": [],
   "source": [
    "def get_pattern_counts(choices, history_length):\n",
    "    words = [choices[np.arange(i+history_length,i-1,-1)] for i in range(history_length-1,len(choices)-history_length)]\n",
    "    words = list(map(lambda array: \".\".join(map(str, array)), words))\n",
    "    return Counter(words)"
   ]
  },
  {
   "cell_type": "code",
   "execution_count": 25,
   "metadata": {
    "collapsed": true
   },
   "outputs": [],
   "source": [
    "def get_lower_bound_on_cross_entropy(choices, history_length):\n",
    "    pattern_counter = get_pattern_counts(choices, history_length)\n",
    "    probs = np.array(list(pattern_counter.values()))/float(sum(pattern_counter.values()))\n",
    "    return -np.sum([prob*np.log2(prob) for prob in probs])"
   ]
  },
  {
   "cell_type": "markdown",
   "metadata": {},
   "source": [
    "# Compare entropy of different agents"
   ]
  },
  {
   "cell_type": "code",
   "execution_count": 26,
   "metadata": {
    "collapsed": true
   },
   "outputs": [],
   "source": [
    "number_of_choices = 250\n",
    "history_length = 1"
   ]
  },
  {
   "cell_type": "code",
   "execution_count": 27,
   "metadata": {
    "collapsed": true
   },
   "outputs": [],
   "source": [
    "choices_with_serial_correlations = generate_stationary_agent_choices(number_of_choices, np.array([0, -1]), np.array([-1]))"
   ]
  },
  {
   "cell_type": "code",
   "execution_count": 28,
   "metadata": {
    "collapsed": true
   },
   "outputs": [],
   "source": [
    "choices_random = generate_stationary_agent_choices(number_of_choices, np.array([0]), np.array([-1]))"
   ]
  },
  {
   "cell_type": "code",
   "execution_count": 29,
   "metadata": {},
   "outputs": [
    {
     "data": {
      "text/plain": [
       "1.8721344987530277"
      ]
     },
     "execution_count": 29,
     "metadata": {},
     "output_type": "execute_result"
    }
   ],
   "source": [
    "get_lower_bound_on_cross_entropy(choices_with_serial_correlations, history_length)"
   ]
  },
  {
   "cell_type": "code",
   "execution_count": 30,
   "metadata": {},
   "outputs": [
    {
     "data": {
      "text/plain": [
       "1.9981094984695167"
      ]
     },
     "execution_count": 30,
     "metadata": {},
     "output_type": "execute_result"
    }
   ],
   "source": [
    "get_lower_bound_on_cross_entropy(choices_random, history_length)"
   ]
  },
  {
   "cell_type": "code",
   "execution_count": 31,
   "metadata": {
    "collapsed": true
   },
   "outputs": [],
   "source": [
    "import pandas as pd"
   ]
  },
  {
   "cell_type": "code",
   "execution_count": 32,
   "metadata": {},
   "outputs": [
    {
     "name": "stderr",
     "output_type": "stream",
     "text": [
      "/home/amadeus/miniconda3/envs/unbias/lib/python3.6/site-packages/ipykernel_launcher.py:3: FutureWarning: from_csv is deprecated. Please use read_csv(...) instead. Note that some of the default arguments are different, so please refer to the documentation for from_csv when changing your function calls\n",
      "  This is separate from the ipykernel package so we can avoid doing imports until\n"
     ]
    }
   ],
   "source": [
    "entropies = []\n",
    "for idx, exp in metadata.iterrows():\n",
    "    choices = np.array(pd.DataFrame.from_csv(data_dir+exp['ChoicesFile'])['AgentChoice'].values)\n",
    "    entropies.append(get_lower_bound_on_cross_entropy(choices, 1))"
   ]
  },
  {
   "cell_type": "code",
   "execution_count": 33,
   "metadata": {},
   "outputs": [
    {
     "name": "stderr",
     "output_type": "stream",
     "text": [
      "/home/amadeus/miniconda3/envs/unbias/lib/python3.6/site-packages/ipykernel_launcher.py:5: FutureWarning: from_csv is deprecated. Please use read_csv(...) instead. Note that some of the default arguments are different, so please refer to the documentation for from_csv when changing your function calls\n",
      "  \"\"\"\n"
     ]
    }
   ],
   "source": [
    "entropy_collector = []\n",
    "for history_length in range(1, 4):\n",
    "    entropies = []\n",
    "    for idx, exp in metadata.iterrows():\n",
    "        choices = np.array(pd.DataFrame.from_csv(data_dir+exp['ChoicesFile'])['AgentChoice'].values)\n",
    "        entropies.append(get_lower_bound_on_cross_entropy(choices, history_length))\n",
    "    entropy_collector.append(entropies)"
   ]
  },
  {
   "cell_type": "code",
   "execution_count": 34,
   "metadata": {
    "collapsed": true
   },
   "outputs": [],
   "source": [
    "import matplotlib.pyplot as plt"
   ]
  },
  {
   "cell_type": "code",
   "execution_count": 35,
   "metadata": {},
   "outputs": [
    {
     "data": {
      "text/plain": [
       "(0, 4)"
      ]
     },
     "execution_count": 35,
     "metadata": {},
     "output_type": "execute_result"
    },
    {
     "data": {
      "image/png": "[encoded data removed]",
      "text/plain": [
       "<matplotlib.figure.Figure at 0x7fa61ef994a8>"
      ]
     },
     "metadata": {},
     "output_type": "display_data"
    }
   ],
   "source": [
    "for idx, entropies in enumerate(entropy_collector):\n",
    "    plt.scatter((idx+1)*np.ones((len(entropies),)), entropies)\n",
    "    plt.scatter(idx+1, idx+2, color='k')\n",
    "\n",
    "plt.xlabel('History length')\n",
    "plt.ylabel('#Bits')\n",
    "plt.ylim(0, 4)"
   ]
  },
  {
   "cell_type": "code",
   "execution_count": null,
   "metadata": {
    "collapsed": true
   },
   "outputs": [],
   "source": []
  }
 ],
 "metadata": {
  "kernelspec": {
   "display_name": "Python 3",
   "language": "python",
   "name": "python3"
  },
  "language_info": {
   "codemirror_mode": {
    "name": "ipython",
    "version": 3
   },
   "file_extension": ".py",
   "mimetype": "text/x-python",
   "name": "python",
   "nbconvert_exporter": "python",
   "pygments_lexer": "ipython3",
   "version": "3.6.2"
  }
 },
 "nbformat": 4,
 "nbformat_minor": 2
}
